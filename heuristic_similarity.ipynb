{
 "cells": [
  {
   "cell_type": "code",
   "execution_count": 1,
   "metadata": {},
   "outputs": [],
   "source": [
    "import pandas as pd"
   ]
  },
  {
   "cell_type": "code",
   "execution_count": 2,
   "metadata": {},
   "outputs": [
    {
     "name": "stderr",
     "output_type": "stream",
     "text": [
      "C:\\Users\\wsnia\\AppData\\Local\\Temp\\ipykernel_10224\\2699269228.py:1: DtypeWarning: Columns (5) have mixed types. Specify dtype option on import or set low_memory=False.\n",
      "  df = pd.read_csv('dataset/movies_metadata_ready_big.csv', encoding='utf-8')\n"
     ]
    },
    {
     "data": {
      "text/plain": [
       "(45466, 16)"
      ]
     },
     "execution_count": 2,
     "metadata": {},
     "output_type": "execute_result"
    }
   ],
   "source": [
    "df = pd.read_csv('dataset/movies_metadata_ready_big.csv', encoding='utf-8')\n",
    "df_cleaned = df.dropna()\n",
    "df.shape"
   ]
  },
  {
   "cell_type": "code",
   "execution_count": null,
   "metadata": {},
   "outputs": [],
   "source": [
    "def compare_multi_field(f1, f2):\n",
    "    try:\n",
    "        return len(set(f1).intersection(set(f2))) / len(set(f1).union(set(f2)))\n",
    "    except:\n",
    "        return 0\n",
    "\n",
    "def the_most_similar_movies(movie_id, n=5, w_adult = 0.1, w_original_language = 0.1, w_release_year = 0.1, w_genres = 0.3, w_production_companies = 0.1, w_production_countries = 0.1, w_overview_keyword = 0.3, w_popularity = 0.1):\n",
    "    movie_1 = df.loc[movie_id]\n",
    "    print(movie_1[\"title\"], movie_1[\"genres\"])\n",
    "    similarities = []\n",
    "    for i, movie_2 in df.iterrows():\n",
    "        if i == movie_id:\n",
    "            continue\n",
    "        adult = 1 if movie_1['adult'] == movie_2['adult'] else 0\n",
    "        original_language = 1 if movie_1['original_language'] == movie_2['original_language'] else 0\n",
    "        release_year = 1 - (abs(movie_1['release_year'] - movie_2['release_year']) / 100)\n",
    "        genres = compare_multi_field(movie_1['genres'], movie_2['genres'])\n",
    "        production_companies = compare_multi_field(movie_1['production_companies'], movie_2['production_companies'])\n",
    "        production_countries = compare_multi_field(movie_1['production_countries'], movie_2['production_countries'])\n",
    "        overview_keywords = compare_multi_field(movie_1['overview_keywords'], movie_2['overview_keywords'])\n",
    "        popularity = 1 - (abs(movie_1['popularity'] - movie_2['popularity']) / 100)\n",
    "        similarity = w_adult * adult +  w_original_language * original_language + w_release_year * release_year + w_genres * genres + w_production_companies * production_companies + w_production_countries * production_countries + w_overview_keyword * overview_keywords + w_popularity * popularity\n",
    "        similarities.append((movie_2[\"title\"], similarity.item(), movie_2[\"genres\"]))\n",
    "    similarities = sorted(similarities, key=lambda x: x[1], reverse=True)\n",
    "    return similarities[:n]"
   ]
  },
  {
   "cell_type": "code",
   "execution_count": null,
   "metadata": {},
   "outputs": [],
   "source": [
    "the_most_similar_movies(441, 5)"
   ]
  },
  {
   "cell_type": "code",
   "execution_count": null,
   "metadata": {},
   "outputs": [],
   "source": [
    "the_most_similar_movies(418, 5)"
   ]
  }
 ],
 "metadata": {
  "kernelspec": {
   "display_name": "venv_ai",
   "language": "python",
   "name": "python3"
  },
  "language_info": {
   "codemirror_mode": {
    "name": "ipython",
    "version": 3
   },
   "file_extension": ".py",
   "mimetype": "text/x-python",
   "name": "python",
   "nbconvert_exporter": "python",
   "pygments_lexer": "ipython3",
   "version": "3.9.7"
  }
 },
 "nbformat": 4,
 "nbformat_minor": 2
}
