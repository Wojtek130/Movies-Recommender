{
 "cells": [
  {
   "cell_type": "code",
   "execution_count": 1,
   "metadata": {},
   "outputs": [],
   "source": [
    "import pandas as pd\n",
    "import numpy as np\n",
    "import json\n",
    "import ast\n",
    "\n",
    "from utils import model_similarity, heuristic_similarity, find_movie"
   ]
  },
  {
   "cell_type": "code",
   "execution_count": null,
   "metadata": {},
   "outputs": [],
   "source": [
    "df_movies = pd.read_csv('dataset/movies_data_embeddings_small.csv', low_memory=False)\n",
    "df_movies['embeddings'] = df_movies['embeddings'].apply(json.loads)\n",
    "df_movies['embeddings'] = df_movies['embeddings'].apply(np.array)"
   ]
  },
  {
   "cell_type": "code",
   "execution_count": 4,
   "metadata": {},
   "outputs": [],
   "source": [
    "df_movies['genres'] = df_movies['genres'].apply(ast.literal_eval)\n",
    "df_movies['tags'] = df_movies['tags'].apply(ast.literal_eval)\n",
    "df_movies['overview_keywords'] = df_movies['overview'].apply(str)\n",
    "df_movies['characters'] = df_movies['characters'].apply(ast.literal_eval)\n",
    "df_movies['directors'] = df_movies['directors'].apply(ast.literal_eval)\n",
    "df_movies['actors'] = df_movies['actors'].apply(ast.literal_eval)"
   ]
  },
  {
   "cell_type": "code",
   "execution_count": 4,
   "metadata": {},
   "outputs": [
    {
     "data": {
      "text/html": [
       "<div>\n",
       "<style scoped>\n",
       "    .dataframe tbody tr th:only-of-type {\n",
       "        vertical-align: middle;\n",
       "    }\n",
       "\n",
       "    .dataframe tbody tr th {\n",
       "        vertical-align: top;\n",
       "    }\n",
       "\n",
       "    .dataframe thead th {\n",
       "        text-align: right;\n",
       "    }\n",
       "</style>\n",
       "<table border=\"1\" class=\"dataframe\">\n",
       "  <thead>\n",
       "    <tr style=\"text-align: right;\">\n",
       "      <th></th>\n",
       "      <th>adult</th>\n",
       "      <th>id</th>\n",
       "      <th>original_language</th>\n",
       "      <th>original_title</th>\n",
       "      <th>overview</th>\n",
       "      <th>popularity</th>\n",
       "      <th>runtime</th>\n",
       "      <th>tagline</th>\n",
       "      <th>title</th>\n",
       "      <th>vote_average</th>\n",
       "      <th>vote_count</th>\n",
       "      <th>genres</th>\n",
       "      <th>release_year</th>\n",
       "      <th>overview_keywords</th>\n",
       "      <th>tags</th>\n",
       "      <th>directors</th>\n",
       "      <th>characters</th>\n",
       "      <th>actors</th>\n",
       "      <th>embeddings</th>\n",
       "      <th>similarity</th>\n",
       "    </tr>\n",
       "  </thead>\n",
       "  <tbody>\n",
       "    <tr>\n",
       "      <th>8335</th>\n",
       "      <td>False</td>\n",
       "      <td>155</td>\n",
       "      <td>en</td>\n",
       "      <td>The Dark Knight</td>\n",
       "      <td>Batman raises the stakes in his war on crime. ...</td>\n",
       "      <td>123.167259</td>\n",
       "      <td>152.0</td>\n",
       "      <td>Why So Serious?</td>\n",
       "      <td>The Dark Knight</td>\n",
       "      <td>8.3</td>\n",
       "      <td>12269.0</td>\n",
       "      <td>[Drama, Action, Crime, Thriller]</td>\n",
       "      <td>2008.0</td>\n",
       "      <td>Batman raises the stakes in his war on crime. ...</td>\n",
       "      <td>[dc comics, crime fighter, secret identity, sc...</td>\n",
       "      <td>[Christopher Nolan, Steve Gehrke, Nilo Otero]</td>\n",
       "      <td>[Bruce Wayne / Batman, Alfred Pennyworth, Joker]</td>\n",
       "      <td>[Christian Bale, Michael Caine, Heath Ledger]</td>\n",
       "      <td>[-0.008470066823065281, -0.07082076370716095, ...</td>\n",
       "      <td>0.397753</td>\n",
       "    </tr>\n",
       "  </tbody>\n",
       "</table>\n",
       "</div>"
      ],
      "text/plain": [
       "      adult   id original_language   original_title  \\\n",
       "8335  False  155                en  The Dark Knight   \n",
       "\n",
       "                                               overview  popularity  runtime  \\\n",
       "8335  Batman raises the stakes in his war on crime. ...  123.167259    152.0   \n",
       "\n",
       "              tagline            title  vote_average  vote_count  \\\n",
       "8335  Why So Serious?  The Dark Knight           8.3     12269.0   \n",
       "\n",
       "                                genres  release_year  \\\n",
       "8335  [Drama, Action, Crime, Thriller]        2008.0   \n",
       "\n",
       "                                      overview_keywords  \\\n",
       "8335  Batman raises the stakes in his war on crime. ...   \n",
       "\n",
       "                                                   tags  \\\n",
       "8335  [dc comics, crime fighter, secret identity, sc...   \n",
       "\n",
       "                                          directors  \\\n",
       "8335  [Christopher Nolan, Steve Gehrke, Nilo Otero]   \n",
       "\n",
       "                                            characters  \\\n",
       "8335  [Bruce Wayne / Batman, Alfred Pennyworth, Joker]   \n",
       "\n",
       "                                             actors  \\\n",
       "8335  [Christian Bale, Michael Caine, Heath Ledger]   \n",
       "\n",
       "                                             embeddings  similarity  \n",
       "8335  [-0.008470066823065281, -0.07082076370716095, ...    0.397753  "
      ]
     },
     "execution_count": 4,
     "metadata": {},
     "output_type": "execute_result"
    }
   ],
   "source": [
    "find_movie(df_movies, 'The Dark Knight')"
   ]
  },
  {
   "cell_type": "code",
   "execution_count": 5,
   "metadata": {},
   "outputs": [
    {
     "name": "stdout",
     "output_type": "stream",
     "text": [
      "search: The Dark Knight\n"
     ]
    },
    {
     "data": {
      "text/plain": [
       "0    The Dark Knight Rises\n",
       "1            Batman Begins\n",
       "2           Batman & Robin\n",
       "3               The Driver\n",
       "4                Dark Blue\n",
       "5         The Exterminator\n",
       "6           Batman Forever\n",
       "7             The Escapist\n",
       "8            The Dark Past\n",
       "9               The Hunted\n",
       "Name: title, dtype: object"
      ]
     },
     "execution_count": 5,
     "metadata": {},
     "output_type": "execute_result"
    }
   ],
   "source": [
    "heuristic_similarity(df_movies, 'The Dark Knight', 10)[\"title\"]"
   ]
  },
  {
   "cell_type": "code",
   "execution_count": 6,
   "metadata": {},
   "outputs": [
    {
     "name": "stdout",
     "output_type": "stream",
     "text": [
      "search: The Dark Knight\n"
     ]
    },
    {
     "data": {
      "text/plain": [
       "11013                      The Dark Knight Rises\n",
       "451                                       Batman\n",
       "6984                               Batman Begins\n",
       "11691    Batman: The Dark Knight Returns, Part 1\n",
       "8534                       Batman: Gotham Knight\n",
       "6530          Batman Beyond: Return of the Joker\n",
       "10915                           Batman: Year One\n",
       "112                               Batman Forever\n",
       "11860    Batman: The Dark Knight Returns, Part 2\n",
       "16306         Batman v Superman: Dawn of Justice\n",
       "Name: title, dtype: object"
      ]
     },
     "execution_count": 6,
     "metadata": {},
     "output_type": "execute_result"
    }
   ],
   "source": [
    "model_similarity(df_movies, 'The Dark Knight', 10)[\"title\"]"
   ]
  },
  {
   "cell_type": "code",
   "execution_count": 8,
   "metadata": {},
   "outputs": [
    {
     "data": {
      "text/html": [
       "<div>\n",
       "<style scoped>\n",
       "    .dataframe tbody tr th:only-of-type {\n",
       "        vertical-align: middle;\n",
       "    }\n",
       "\n",
       "    .dataframe tbody tr th {\n",
       "        vertical-align: top;\n",
       "    }\n",
       "\n",
       "    .dataframe thead th {\n",
       "        text-align: right;\n",
       "    }\n",
       "</style>\n",
       "<table border=\"1\" class=\"dataframe\">\n",
       "  <thead>\n",
       "    <tr style=\"text-align: right;\">\n",
       "      <th></th>\n",
       "      <th>adult</th>\n",
       "      <th>id</th>\n",
       "      <th>original_language</th>\n",
       "      <th>original_title</th>\n",
       "      <th>overview</th>\n",
       "      <th>popularity</th>\n",
       "      <th>runtime</th>\n",
       "      <th>tagline</th>\n",
       "      <th>title</th>\n",
       "      <th>vote_average</th>\n",
       "      <th>vote_count</th>\n",
       "      <th>genres</th>\n",
       "      <th>release_year</th>\n",
       "      <th>overview_keywords</th>\n",
       "      <th>tags</th>\n",
       "      <th>directors</th>\n",
       "      <th>characters</th>\n",
       "      <th>actors</th>\n",
       "      <th>embeddings</th>\n",
       "      <th>similarity</th>\n",
       "    </tr>\n",
       "  </thead>\n",
       "  <tbody>\n",
       "    <tr>\n",
       "      <th>3170</th>\n",
       "      <td>False</td>\n",
       "      <td>808</td>\n",
       "      <td>en</td>\n",
       "      <td>Shrek</td>\n",
       "      <td>It ain't easy bein' green -- especially if you...</td>\n",
       "      <td>17.987728</td>\n",
       "      <td>90.0</td>\n",
       "      <td>The greatest fairy tale never told.</td>\n",
       "      <td>Shrek</td>\n",
       "      <td>7.3</td>\n",
       "      <td>4183.0</td>\n",
       "      <td>[Adventure, Animation, Comedy, Family, Fantasy]</td>\n",
       "      <td>2001.0</td>\n",
       "      <td>It ain't easy bein' green -- especially if you...</td>\n",
       "      <td>[magic, liberation, lordship, castle, robin ho...</td>\n",
       "      <td>[Andrew Adamson, Vicky Jenson, Denise Nolan Ca...</td>\n",
       "      <td>[Shrek (voice), Donkey (voice), Princess Fiona...</td>\n",
       "      <td>[Mike Myers, Eddie Murphy, Cameron Diaz]</td>\n",
       "      <td>[-0.21237385272979736, -0.01747782714664936, 0...</td>\n",
       "      <td>0.15386</td>\n",
       "    </tr>\n",
       "  </tbody>\n",
       "</table>\n",
       "</div>"
      ],
      "text/plain": [
       "      adult   id original_language original_title  \\\n",
       "3170  False  808                en          Shrek   \n",
       "\n",
       "                                               overview  popularity  runtime  \\\n",
       "3170  It ain't easy bein' green -- especially if you...   17.987728     90.0   \n",
       "\n",
       "                                  tagline  title  vote_average  vote_count  \\\n",
       "3170  The greatest fairy tale never told.  Shrek           7.3      4183.0   \n",
       "\n",
       "                                               genres  release_year  \\\n",
       "3170  [Adventure, Animation, Comedy, Family, Fantasy]        2001.0   \n",
       "\n",
       "                                      overview_keywords  \\\n",
       "3170  It ain't easy bein' green -- especially if you...   \n",
       "\n",
       "                                                   tags  \\\n",
       "3170  [magic, liberation, lordship, castle, robin ho...   \n",
       "\n",
       "                                              directors  \\\n",
       "3170  [Andrew Adamson, Vicky Jenson, Denise Nolan Ca...   \n",
       "\n",
       "                                             characters  \\\n",
       "3170  [Shrek (voice), Donkey (voice), Princess Fiona...   \n",
       "\n",
       "                                        actors  \\\n",
       "3170  [Mike Myers, Eddie Murphy, Cameron Diaz]   \n",
       "\n",
       "                                             embeddings  similarity  \n",
       "3170  [-0.21237385272979736, -0.01747782714664936, 0...     0.15386  "
      ]
     },
     "execution_count": 8,
     "metadata": {},
     "output_type": "execute_result"
    }
   ],
   "source": [
    "find_movie(df_movies, \"Shrek\")"
   ]
  },
  {
   "cell_type": "code",
   "execution_count": 9,
   "metadata": {},
   "outputs": [
    {
     "name": "stdout",
     "output_type": "stream",
     "text": [
      "search: Shrek\n"
     ]
    },
    {
     "data": {
      "text/plain": [
       "0                                             Shrek 2\n",
       "1                                 Shrek Forever After\n",
       "2                                     Shrek the Third\n",
       "3                                          The Smurfs\n",
       "4                                          The Croods\n",
       "5                            The Emperor's New Groove\n",
       "6                                 Horton Hears a Who!\n",
       "7                                       The Ant Bully\n",
       "8                                      The Lego Movie\n",
       "9    DuckTales: The Movie - Treasure of the Lost Lamp\n",
       "Name: title, dtype: object"
      ]
     },
     "execution_count": 9,
     "metadata": {},
     "output_type": "execute_result"
    }
   ],
   "source": [
    "heuristic_similarity(df_movies, 'Shrek', 10)[\"title\"]"
   ]
  },
  {
   "cell_type": "code",
   "execution_count": 10,
   "metadata": {},
   "outputs": [
    {
     "name": "stdout",
     "output_type": "stream",
     "text": [
      "search: Shrek\n"
     ]
    },
    {
     "data": {
      "text/plain": [
       "9752      Shrek Forever After\n",
       "5602                  Shrek 2\n",
       "7956          Shrek the Third\n",
       "1508          Sleeping Beauty\n",
       "10112                 Tangled\n",
       "1496       The Little Mermaid\n",
       "447                   Aladdin\n",
       "454      Beauty and the Beast\n",
       "493               DragonHeart\n",
       "241         The Swan Princess\n",
       "Name: title, dtype: object"
      ]
     },
     "execution_count": 10,
     "metadata": {},
     "output_type": "execute_result"
    }
   ],
   "source": [
    "model_similarity(df_movies, 'Shrek', 10)[\"title\"]"
   ]
  },
  {
   "cell_type": "code",
   "execution_count": 11,
   "metadata": {},
   "outputs": [
    {
     "data": {
      "text/html": [
       "<div>\n",
       "<style scoped>\n",
       "    .dataframe tbody tr th:only-of-type {\n",
       "        vertical-align: middle;\n",
       "    }\n",
       "\n",
       "    .dataframe tbody tr th {\n",
       "        vertical-align: top;\n",
       "    }\n",
       "\n",
       "    .dataframe thead th {\n",
       "        text-align: right;\n",
       "    }\n",
       "</style>\n",
       "<table border=\"1\" class=\"dataframe\">\n",
       "  <thead>\n",
       "    <tr style=\"text-align: right;\">\n",
       "      <th></th>\n",
       "      <th>adult</th>\n",
       "      <th>id</th>\n",
       "      <th>original_language</th>\n",
       "      <th>original_title</th>\n",
       "      <th>overview</th>\n",
       "      <th>popularity</th>\n",
       "      <th>runtime</th>\n",
       "      <th>tagline</th>\n",
       "      <th>title</th>\n",
       "      <th>vote_average</th>\n",
       "      <th>vote_count</th>\n",
       "      <th>genres</th>\n",
       "      <th>release_year</th>\n",
       "      <th>overview_keywords</th>\n",
       "      <th>tags</th>\n",
       "      <th>directors</th>\n",
       "      <th>characters</th>\n",
       "      <th>actors</th>\n",
       "      <th>embeddings</th>\n",
       "      <th>similarity</th>\n",
       "    </tr>\n",
       "  </thead>\n",
       "  <tbody>\n",
       "    <tr>\n",
       "      <th>3670</th>\n",
       "      <td>False</td>\n",
       "      <td>120</td>\n",
       "      <td>en</td>\n",
       "      <td>The Lord of the Rings: The Fellowship of the Ring</td>\n",
       "      <td>Young hobbit Frodo Baggins, after inheriting a...</td>\n",
       "      <td>32.070725</td>\n",
       "      <td>178.0</td>\n",
       "      <td>One ring to rule them all</td>\n",
       "      <td>The Lord of the Rings: The Fellowship of the Ring</td>\n",
       "      <td>8.0</td>\n",
       "      <td>8892.0</td>\n",
       "      <td>[Adventure, Fantasy, Action]</td>\n",
       "      <td>2001.0</td>\n",
       "      <td>Young hobbit Frodo Baggins, after inheriting a...</td>\n",
       "      <td>[elves, dwarves, orcs, middle-earth (tolkien),...</td>\n",
       "      <td>[Peter Jackson]</td>\n",
       "      <td>[Frodo Baggins, Gandalf the Grey, Galadriel]</td>\n",
       "      <td>[Elijah Wood, Ian McKellen, Cate Blanchett]</td>\n",
       "      <td>[-0.067982979118824, 0.011018718592822552, -0....</td>\n",
       "      <td>0.026405</td>\n",
       "    </tr>\n",
       "  </tbody>\n",
       "</table>\n",
       "</div>"
      ],
      "text/plain": [
       "      adult   id original_language  \\\n",
       "3670  False  120                en   \n",
       "\n",
       "                                         original_title  \\\n",
       "3670  The Lord of the Rings: The Fellowship of the Ring   \n",
       "\n",
       "                                               overview  popularity  runtime  \\\n",
       "3670  Young hobbit Frodo Baggins, after inheriting a...   32.070725    178.0   \n",
       "\n",
       "                        tagline  \\\n",
       "3670  One ring to rule them all   \n",
       "\n",
       "                                                  title  vote_average  \\\n",
       "3670  The Lord of the Rings: The Fellowship of the Ring           8.0   \n",
       "\n",
       "      vote_count                        genres  release_year  \\\n",
       "3670      8892.0  [Adventure, Fantasy, Action]        2001.0   \n",
       "\n",
       "                                      overview_keywords  \\\n",
       "3670  Young hobbit Frodo Baggins, after inheriting a...   \n",
       "\n",
       "                                                   tags        directors  \\\n",
       "3670  [elves, dwarves, orcs, middle-earth (tolkien),...  [Peter Jackson]   \n",
       "\n",
       "                                        characters  \\\n",
       "3670  [Frodo Baggins, Gandalf the Grey, Galadriel]   \n",
       "\n",
       "                                           actors  \\\n",
       "3670  [Elijah Wood, Ian McKellen, Cate Blanchett]   \n",
       "\n",
       "                                             embeddings  similarity  \n",
       "3670  [-0.067982979118824, 0.011018718592822552, -0....    0.026405  "
      ]
     },
     "execution_count": 11,
     "metadata": {},
     "output_type": "execute_result"
    }
   ],
   "source": [
    "find_movie(df_movies, \"The Lord of the Rings: The Fellowship of the Ring\")"
   ]
  },
  {
   "cell_type": "code",
   "execution_count": 12,
   "metadata": {},
   "outputs": [
    {
     "name": "stdout",
     "output_type": "stream",
     "text": [
      "search: The Lord of the Rings: The Fellowship of the Ring\n"
     ]
    },
    {
     "data": {
      "text/plain": [
       "0             The Lord of the Rings: The Two Towers\n",
       "1     The Lord of the Rings: The Return of the King\n",
       "2         The Hobbit: The Battle of the Five Armies\n",
       "3                 The Hobbit: An Unexpected Journey\n",
       "4               The Hobbit: The Desolation of Smaug\n",
       "5                                          Warcraft\n",
       "6                          Sinbad of the Seven Seas\n",
       "7           Deathstalker and the Warriors from Hell\n",
       "8           Deathstalker and the Warriors from Hell\n",
       "9           Deathstalker and the Warriors from Hell\n",
       "10          Deathstalker and the Warriors from Hell\n",
       "11                 Deathstalker IV: Match of Titans\n",
       "12                 Deathstalker IV: Match of Titans\n",
       "Name: title, dtype: object"
      ]
     },
     "execution_count": 12,
     "metadata": {},
     "output_type": "execute_result"
    }
   ],
   "source": [
    "heuristic_similarity(df_movies, 'The Lord of the Rings: The Fellowship of the Ring', 10)[\"title\"]"
   ]
  },
  {
   "cell_type": "code",
   "execution_count": 13,
   "metadata": {},
   "outputs": [
    {
     "name": "stdout",
     "output_type": "stream",
     "text": [
      "search: The Lord of the Rings: The Fellowship of the Ring\n"
     ]
    },
    {
     "data": {
      "text/plain": [
       "1523                             The Lord of the Rings\n",
       "5109     The Lord of the Rings: The Return of the King\n",
       "4321             The Lord of the Rings: The Two Towers\n",
       "11753                The Hobbit: An Unexpected Journey\n",
       "14121        The Hobbit: The Battle of the Five Armies\n",
       "12723              The Hobbit: The Desolation of Smaug\n",
       "9189                               The Hunt for Gollum\n",
       "12923                                Curse of the Ring\n",
       "3149                                             Krull\n",
       "8269                       Hellboy II: The Golden Army\n",
       "Name: title, dtype: object"
      ]
     },
     "execution_count": 13,
     "metadata": {},
     "output_type": "execute_result"
    }
   ],
   "source": [
    "model_similarity(df_movies, 'The Lord of the Rings: The Fellowship of the Ring', 10)[\"title\"]"
   ]
  },
  {
   "cell_type": "code",
   "execution_count": 14,
   "metadata": {},
   "outputs": [
    {
     "data": {
      "text/html": [
       "<div>\n",
       "<style scoped>\n",
       "    .dataframe tbody tr th:only-of-type {\n",
       "        vertical-align: middle;\n",
       "    }\n",
       "\n",
       "    .dataframe tbody tr th {\n",
       "        vertical-align: top;\n",
       "    }\n",
       "\n",
       "    .dataframe thead th {\n",
       "        text-align: right;\n",
       "    }\n",
       "</style>\n",
       "<table border=\"1\" class=\"dataframe\">\n",
       "  <thead>\n",
       "    <tr style=\"text-align: right;\">\n",
       "      <th></th>\n",
       "      <th>adult</th>\n",
       "      <th>id</th>\n",
       "      <th>original_language</th>\n",
       "      <th>original_title</th>\n",
       "      <th>overview</th>\n",
       "      <th>popularity</th>\n",
       "      <th>runtime</th>\n",
       "      <th>tagline</th>\n",
       "      <th>title</th>\n",
       "      <th>vote_average</th>\n",
       "      <th>vote_count</th>\n",
       "      <th>genres</th>\n",
       "      <th>release_year</th>\n",
       "      <th>overview_keywords</th>\n",
       "      <th>tags</th>\n",
       "      <th>directors</th>\n",
       "      <th>characters</th>\n",
       "      <th>actors</th>\n",
       "      <th>embeddings</th>\n",
       "      <th>similarity</th>\n",
       "    </tr>\n",
       "  </thead>\n",
       "  <tbody>\n",
       "    <tr>\n",
       "      <th>614</th>\n",
       "      <td>False</td>\n",
       "      <td>238</td>\n",
       "      <td>en</td>\n",
       "      <td>The Godfather</td>\n",
       "      <td>Spanning the years 1945 to 1955, a chronicle o...</td>\n",
       "      <td>41.109264</td>\n",
       "      <td>175.0</td>\n",
       "      <td>An offer you can't refuse.</td>\n",
       "      <td>The Godfather</td>\n",
       "      <td>8.5</td>\n",
       "      <td>6024.0</td>\n",
       "      <td>[Drama, Crime]</td>\n",
       "      <td>1972.0</td>\n",
       "      <td>Spanning the years 1945 to 1955, a chronicle o...</td>\n",
       "      <td>[italy, love at first sight, loss of father, p...</td>\n",
       "      <td>[Francis Ford Coppola, Fred T. Gallo, Stephen ...</td>\n",
       "      <td>[Don Vito Corleone, Michael Corleone, Santino ...</td>\n",
       "      <td>[Marlon Brando, Al Pacino, James Caan]</td>\n",
       "      <td>[-0.17985424399375916, 0.05135689303278923, -0...</td>\n",
       "      <td>0.331316</td>\n",
       "    </tr>\n",
       "  </tbody>\n",
       "</table>\n",
       "</div>"
      ],
      "text/plain": [
       "     adult   id original_language original_title  \\\n",
       "614  False  238                en  The Godfather   \n",
       "\n",
       "                                              overview  popularity  runtime  \\\n",
       "614  Spanning the years 1945 to 1955, a chronicle o...   41.109264    175.0   \n",
       "\n",
       "                        tagline          title  vote_average  vote_count  \\\n",
       "614  An offer you can't refuse.  The Godfather           8.5      6024.0   \n",
       "\n",
       "             genres  release_year  \\\n",
       "614  [Drama, Crime]        1972.0   \n",
       "\n",
       "                                     overview_keywords  \\\n",
       "614  Spanning the years 1945 to 1955, a chronicle o...   \n",
       "\n",
       "                                                  tags  \\\n",
       "614  [italy, love at first sight, loss of father, p...   \n",
       "\n",
       "                                             directors  \\\n",
       "614  [Francis Ford Coppola, Fred T. Gallo, Stephen ...   \n",
       "\n",
       "                                            characters  \\\n",
       "614  [Don Vito Corleone, Michael Corleone, Santino ...   \n",
       "\n",
       "                                     actors  \\\n",
       "614  [Marlon Brando, Al Pacino, James Caan]   \n",
       "\n",
       "                                            embeddings  similarity  \n",
       "614  [-0.17985424399375916, 0.05135689303278923, -0...    0.331316  "
      ]
     },
     "execution_count": 14,
     "metadata": {},
     "output_type": "execute_result"
    }
   ],
   "source": [
    "find_movie(df_movies, \"The Godfather\")"
   ]
  },
  {
   "cell_type": "code",
   "execution_count": 15,
   "metadata": {},
   "outputs": [
    {
     "name": "stdout",
     "output_type": "stream",
     "text": [
      "search: The Godfather\n"
     ]
    },
    {
     "data": {
      "text/plain": [
       "0     The Godfather: Part II\n",
       "1                The Gambler\n",
       "2    The Godfather: Part III\n",
       "3            The Don Is Dead\n",
       "4                 The Outfit\n",
       "5              The Outsiders\n",
       "6               The Grifters\n",
       "7            The Unknown Man\n",
       "8                The Funeral\n",
       "9        Murder in the First\n",
       "Name: title, dtype: object"
      ]
     },
     "execution_count": 15,
     "metadata": {},
     "output_type": "execute_result"
    }
   ],
   "source": [
    "heuristic_similarity(df_movies, 'The Godfather', 10)[\"title\"]"
   ]
  },
  {
   "cell_type": "code",
   "execution_count": 16,
   "metadata": {},
   "outputs": [
    {
     "name": "stdout",
     "output_type": "stream",
     "text": [
      "search: The Godfather\n"
     ]
    },
    {
     "data": {
      "text/plain": [
       "871       The Godfather: Part II\n",
       "1457     The Godfather: Part III\n",
       "1461        Jane Austen's Mafia!\n",
       "3645                The Sicilian\n",
       "10146            The Brotherhood\n",
       "17572                 Crime Boss\n",
       "19267          The Sicilian Girl\n",
       "6099                3 Godfathers\n",
       "20435                Bella Mafia\n",
       "6715      Rocco and His Brothers\n",
       "Name: title, dtype: object"
      ]
     },
     "execution_count": 16,
     "metadata": {},
     "output_type": "execute_result"
    }
   ],
   "source": [
    "model_similarity(df_movies, 'The Godfather', 10)[\"title\"]"
   ]
  },
  {
   "cell_type": "code",
   "execution_count": 17,
   "metadata": {},
   "outputs": [
    {
     "data": {
      "text/html": [
       "<div>\n",
       "<style scoped>\n",
       "    .dataframe tbody tr th:only-of-type {\n",
       "        vertical-align: middle;\n",
       "    }\n",
       "\n",
       "    .dataframe tbody tr th {\n",
       "        vertical-align: top;\n",
       "    }\n",
       "\n",
       "    .dataframe thead th {\n",
       "        text-align: right;\n",
       "    }\n",
       "</style>\n",
       "<table border=\"1\" class=\"dataframe\">\n",
       "  <thead>\n",
       "    <tr style=\"text-align: right;\">\n",
       "      <th></th>\n",
       "      <th>adult</th>\n",
       "      <th>id</th>\n",
       "      <th>original_language</th>\n",
       "      <th>original_title</th>\n",
       "      <th>overview</th>\n",
       "      <th>popularity</th>\n",
       "      <th>runtime</th>\n",
       "      <th>tagline</th>\n",
       "      <th>title</th>\n",
       "      <th>vote_average</th>\n",
       "      <th>vote_count</th>\n",
       "      <th>genres</th>\n",
       "      <th>release_year</th>\n",
       "      <th>overview_keywords</th>\n",
       "      <th>tags</th>\n",
       "      <th>directors</th>\n",
       "      <th>characters</th>\n",
       "      <th>actors</th>\n",
       "      <th>embeddings</th>\n",
       "      <th>similarity</th>\n",
       "    </tr>\n",
       "  </thead>\n",
       "  <tbody>\n",
       "    <tr>\n",
       "      <th>4699</th>\n",
       "      <td>False</td>\n",
       "      <td>1927</td>\n",
       "      <td>en</td>\n",
       "      <td>Hulk</td>\n",
       "      <td>Bruce Banner, a genetics researcher with a tra...</td>\n",
       "      <td>15.422638</td>\n",
       "      <td>138.0</td>\n",
       "      <td>Unleash the hero within</td>\n",
       "      <td>Hulk</td>\n",
       "      <td>5.3</td>\n",
       "      <td>1571.0</td>\n",
       "      <td>[Drama, Action, Science Fiction]</td>\n",
       "      <td>2003.0</td>\n",
       "      <td>Bruce Banner, a genetics researcher with a tra...</td>\n",
       "      <td>[california, san francisco, monster, general, ...</td>\n",
       "      <td>[Ang Lee, Ian O'Connor, Jayne-Ann Tenggren, Ar...</td>\n",
       "      <td>[Bruce Banner / The Hulk, Betty Ross, Thaddeus...</td>\n",
       "      <td>[Eric Bana, Jennifer Connelly, Sam Elliott]</td>\n",
       "      <td>[-0.1073094978928566, -0.008999132551252842, -...</td>\n",
       "      <td>0.249404</td>\n",
       "    </tr>\n",
       "  </tbody>\n",
       "</table>\n",
       "</div>"
      ],
      "text/plain": [
       "      adult    id original_language original_title  \\\n",
       "4699  False  1927                en           Hulk   \n",
       "\n",
       "                                               overview  popularity  runtime  \\\n",
       "4699  Bruce Banner, a genetics researcher with a tra...   15.422638    138.0   \n",
       "\n",
       "                      tagline title  vote_average  vote_count  \\\n",
       "4699  Unleash the hero within  Hulk           5.3      1571.0   \n",
       "\n",
       "                                genres  release_year  \\\n",
       "4699  [Drama, Action, Science Fiction]        2003.0   \n",
       "\n",
       "                                      overview_keywords  \\\n",
       "4699  Bruce Banner, a genetics researcher with a tra...   \n",
       "\n",
       "                                                   tags  \\\n",
       "4699  [california, san francisco, monster, general, ...   \n",
       "\n",
       "                                              directors  \\\n",
       "4699  [Ang Lee, Ian O'Connor, Jayne-Ann Tenggren, Ar...   \n",
       "\n",
       "                                             characters  \\\n",
       "4699  [Bruce Banner / The Hulk, Betty Ross, Thaddeus...   \n",
       "\n",
       "                                           actors  \\\n",
       "4699  [Eric Bana, Jennifer Connelly, Sam Elliott]   \n",
       "\n",
       "                                             embeddings  similarity  \n",
       "4699  [-0.1073094978928566, -0.008999132551252842, -...    0.249404  "
      ]
     },
     "execution_count": 17,
     "metadata": {},
     "output_type": "execute_result"
    }
   ],
   "source": [
    "find_movie(df_movies, \"Hulk\")"
   ]
  },
  {
   "cell_type": "code",
   "execution_count": 18,
   "metadata": {},
   "outputs": [
    {
     "name": "stdout",
     "output_type": "stream",
     "text": [
      "search: Hulk\n"
     ]
    },
    {
     "data": {
      "text/plain": [
       "0                 The Incredible Hulk\n",
       "1    The Death of the Incredible Hulk\n",
       "2                        The Avengers\n",
       "3                                 Flu\n",
       "4                           Supernova\n",
       "5                               Logan\n",
       "6                          Real Steel\n",
       "7                         Snowpiercer\n",
       "8                         Planet Hulk\n",
       "9                            Mega Man\n",
       "Name: title, dtype: object"
      ]
     },
     "execution_count": 18,
     "metadata": {},
     "output_type": "execute_result"
    }
   ],
   "source": [
    "heuristic_similarity(df_movies, 'Hulk', 10)[\"title\"]"
   ]
  },
  {
   "cell_type": "code",
   "execution_count": 19,
   "metadata": {},
   "outputs": [
    {
     "name": "stdout",
     "output_type": "stream",
     "text": [
      "search: Hulk\n"
     ]
    },
    {
     "data": {
      "text/plain": [
       "8457                  The Incredible Hulk\n",
       "12343    The Death of the Incredible Hulk\n",
       "11989    The Trial of the Incredible Hulk\n",
       "10825                        The Avengers\n",
       "4567                                   X2\n",
       "12095                         Planet Hulk\n",
       "10859                                Zaat\n",
       "14615                   X-Men: Apocalypse\n",
       "20520                   The Mad Scientist\n",
       "12168                     Captain America\n",
       "Name: title, dtype: object"
      ]
     },
     "execution_count": 19,
     "metadata": {},
     "output_type": "execute_result"
    }
   ],
   "source": [
    "model_similarity(df_movies, 'Hulk', 10)[\"title\"]"
   ]
  },
  {
   "cell_type": "code",
   "execution_count": 20,
   "metadata": {},
   "outputs": [
    {
     "data": {
      "text/html": [
       "<div>\n",
       "<style scoped>\n",
       "    .dataframe tbody tr th:only-of-type {\n",
       "        vertical-align: middle;\n",
       "    }\n",
       "\n",
       "    .dataframe tbody tr th {\n",
       "        vertical-align: top;\n",
       "    }\n",
       "\n",
       "    .dataframe thead th {\n",
       "        text-align: right;\n",
       "    }\n",
       "</style>\n",
       "<table border=\"1\" class=\"dataframe\">\n",
       "  <thead>\n",
       "    <tr style=\"text-align: right;\">\n",
       "      <th></th>\n",
       "      <th>adult</th>\n",
       "      <th>id</th>\n",
       "      <th>original_language</th>\n",
       "      <th>original_title</th>\n",
       "      <th>overview</th>\n",
       "      <th>popularity</th>\n",
       "      <th>runtime</th>\n",
       "      <th>tagline</th>\n",
       "      <th>title</th>\n",
       "      <th>vote_average</th>\n",
       "      <th>vote_count</th>\n",
       "      <th>genres</th>\n",
       "      <th>release_year</th>\n",
       "      <th>overview_keywords</th>\n",
       "      <th>tags</th>\n",
       "      <th>directors</th>\n",
       "      <th>characters</th>\n",
       "      <th>actors</th>\n",
       "      <th>embeddings</th>\n",
       "      <th>similarity</th>\n",
       "    </tr>\n",
       "  </thead>\n",
       "  <tbody>\n",
       "    <tr>\n",
       "      <th>11107</th>\n",
       "      <td>False</td>\n",
       "      <td>77338</td>\n",
       "      <td>fr</td>\n",
       "      <td>Intouchables</td>\n",
       "      <td>A true story of two men who should never have ...</td>\n",
       "      <td>16.086919</td>\n",
       "      <td>112.0</td>\n",
       "      <td>Sometimes you have to reach into someone else'...</td>\n",
       "      <td>The Intouchables</td>\n",
       "      <td>8.2</td>\n",
       "      <td>5410.0</td>\n",
       "      <td>[Drama, Comedy]</td>\n",
       "      <td>2011.0</td>\n",
       "      <td>A true story of two men who should never have ...</td>\n",
       "      <td>[male friendship, masseuse, friendship, aristo...</td>\n",
       "      <td>[Eric Toledano, Olivier Nakache, Nathalie Vierny]</td>\n",
       "      <td>[Philippe, Driss, Magalie]</td>\n",
       "      <td>[François Cluzet, Omar Sy, Audrey Fleurot]</td>\n",
       "      <td>[-0.05516831576824188, 0.043889496475458145, -...</td>\n",
       "      <td>0.218785</td>\n",
       "    </tr>\n",
       "  </tbody>\n",
       "</table>\n",
       "</div>"
      ],
      "text/plain": [
       "       adult     id original_language original_title  \\\n",
       "11107  False  77338                fr   Intouchables   \n",
       "\n",
       "                                                overview  popularity  runtime  \\\n",
       "11107  A true story of two men who should never have ...   16.086919    112.0   \n",
       "\n",
       "                                                 tagline             title  \\\n",
       "11107  Sometimes you have to reach into someone else'...  The Intouchables   \n",
       "\n",
       "       vote_average  vote_count           genres  release_year  \\\n",
       "11107           8.2      5410.0  [Drama, Comedy]        2011.0   \n",
       "\n",
       "                                       overview_keywords  \\\n",
       "11107  A true story of two men who should never have ...   \n",
       "\n",
       "                                                    tags  \\\n",
       "11107  [male friendship, masseuse, friendship, aristo...   \n",
       "\n",
       "                                               directors  \\\n",
       "11107  [Eric Toledano, Olivier Nakache, Nathalie Vierny]   \n",
       "\n",
       "                       characters                                      actors  \\\n",
       "11107  [Philippe, Driss, Magalie]  [François Cluzet, Omar Sy, Audrey Fleurot]   \n",
       "\n",
       "                                              embeddings  similarity  \n",
       "11107  [-0.05516831576824188, 0.043889496475458145, -...    0.218785  "
      ]
     },
     "execution_count": 20,
     "metadata": {},
     "output_type": "execute_result"
    }
   ],
   "source": [
    "find_movie(df_movies, \"Intouchables\")"
   ]
  },
  {
   "cell_type": "code",
   "execution_count": 25,
   "metadata": {},
   "outputs": [
    {
     "data": {
      "text/html": [
       "<div>\n",
       "<style scoped>\n",
       "    .dataframe tbody tr th:only-of-type {\n",
       "        vertical-align: middle;\n",
       "    }\n",
       "\n",
       "    .dataframe tbody tr th {\n",
       "        vertical-align: top;\n",
       "    }\n",
       "\n",
       "    .dataframe thead th {\n",
       "        text-align: right;\n",
       "    }\n",
       "</style>\n",
       "<table border=\"1\" class=\"dataframe\">\n",
       "  <thead>\n",
       "    <tr style=\"text-align: right;\">\n",
       "      <th></th>\n",
       "      <th>adult</th>\n",
       "      <th>id</th>\n",
       "      <th>original_language</th>\n",
       "      <th>original_title</th>\n",
       "      <th>overview</th>\n",
       "      <th>popularity</th>\n",
       "      <th>runtime</th>\n",
       "      <th>tagline</th>\n",
       "      <th>title</th>\n",
       "      <th>vote_average</th>\n",
       "      <th>vote_count</th>\n",
       "      <th>genres</th>\n",
       "      <th>release_year</th>\n",
       "      <th>overview_keywords</th>\n",
       "      <th>tags</th>\n",
       "      <th>directors</th>\n",
       "      <th>characters</th>\n",
       "      <th>actors</th>\n",
       "      <th>embeddings</th>\n",
       "      <th>similarity</th>\n",
       "    </tr>\n",
       "  </thead>\n",
       "  <tbody>\n",
       "    <tr>\n",
       "      <th>204</th>\n",
       "      <td>False</td>\n",
       "      <td>11</td>\n",
       "      <td>en</td>\n",
       "      <td>Star Wars</td>\n",
       "      <td>Princess Leia is captured and held hostage by ...</td>\n",
       "      <td>42.149697</td>\n",
       "      <td>121.0</td>\n",
       "      <td>A long time ago in a galaxy far, far away...</td>\n",
       "      <td>Star Wars</td>\n",
       "      <td>8.1</td>\n",
       "      <td>6778.0</td>\n",
       "      <td>[Adventure, Action, Science Fiction]</td>\n",
       "      <td>1977.0</td>\n",
       "      <td>Princess Leia is captured and held hostage by ...</td>\n",
       "      <td>[android, galaxy, hermit, death star, lightsab...</td>\n",
       "      <td>[George Lucas]</td>\n",
       "      <td>[Luke Skywalker, Han Solo, Princess Leia Organa]</td>\n",
       "      <td>[Mark Hamill, Harrison Ford, Carrie Fisher]</td>\n",
       "      <td>[-0.08020681142807007, -0.20715829730033875, 0...</td>\n",
       "      <td>0.203913</td>\n",
       "    </tr>\n",
       "  </tbody>\n",
       "</table>\n",
       "</div>"
      ],
      "text/plain": [
       "     adult  id original_language original_title  \\\n",
       "204  False  11                en      Star Wars   \n",
       "\n",
       "                                              overview  popularity  runtime  \\\n",
       "204  Princess Leia is captured and held hostage by ...   42.149697    121.0   \n",
       "\n",
       "                                          tagline      title  vote_average  \\\n",
       "204  A long time ago in a galaxy far, far away...  Star Wars           8.1   \n",
       "\n",
       "     vote_count                                genres  release_year  \\\n",
       "204      6778.0  [Adventure, Action, Science Fiction]        1977.0   \n",
       "\n",
       "                                     overview_keywords  \\\n",
       "204  Princess Leia is captured and held hostage by ...   \n",
       "\n",
       "                                                  tags       directors  \\\n",
       "204  [android, galaxy, hermit, death star, lightsab...  [George Lucas]   \n",
       "\n",
       "                                           characters  \\\n",
       "204  [Luke Skywalker, Han Solo, Princess Leia Organa]   \n",
       "\n",
       "                                          actors  \\\n",
       "204  [Mark Hamill, Harrison Ford, Carrie Fisher]   \n",
       "\n",
       "                                            embeddings  similarity  \n",
       "204  [-0.08020681142807007, -0.20715829730033875, 0...    0.203913  "
      ]
     },
     "execution_count": 25,
     "metadata": {},
     "output_type": "execute_result"
    }
   ],
   "source": [
    "find_movie(df_movies, \"Star Wars\")"
   ]
  },
  {
   "cell_type": "code",
   "execution_count": 27,
   "metadata": {},
   "outputs": [
    {
     "name": "stdout",
     "output_type": "stream",
     "text": [
      "search: Star Wars\n"
     ]
    },
    {
     "data": {
      "text/plain": [
       "0                         The Empire Strikes Back\n",
       "1                              Return of the Jedi\n",
       "2                   The Star Wars Holiday Special\n",
       "3    Star Wars: Episode III - Revenge of the Sith\n",
       "4       Star Wars: Episode I - The Phantom Menace\n",
       "5    Star Wars: Episode II - Attack of the Clones\n",
       "6                                       Star Trek\n",
       "7                    Rogue One: A Star Wars Story\n",
       "8                                        Stargate\n",
       "9                            The Last Starfighter\n",
       "Name: title, dtype: object"
      ]
     },
     "execution_count": 27,
     "metadata": {},
     "output_type": "execute_result"
    }
   ],
   "source": [
    "heuristic_similarity(df_movies, 'Star Wars', 10)[\"title\"]"
   ]
  },
  {
   "cell_type": "code",
   "execution_count": 26,
   "metadata": {},
   "outputs": [
    {
     "name": "stdout",
     "output_type": "stream",
     "text": [
      "search: Star Wars\n"
     ]
    },
    {
     "data": {
      "text/plain": [
       "849                           The Empire Strikes Back\n",
       "860                                Return of the Jedi\n",
       "14605                    Star Wars: The Force Awakens\n",
       "1929        Star Wars: Episode I - The Phantom Menace\n",
       "6953     Star Wars: Episode III - Revenge of the Sith\n",
       "19742                    Rogue One: A Star Wars Story\n",
       "15848                                    Jedi Junkies\n",
       "16081                   The Star Wars Holiday Special\n",
       "3932     Star Wars: Episode II - Attack of the Clones\n",
       "8967                                          Fanboys\n",
       "Name: title, dtype: object"
      ]
     },
     "execution_count": 26,
     "metadata": {},
     "output_type": "execute_result"
    }
   ],
   "source": [
    "model_similarity(df_movies, 'Star Wars', 10)[\"title\"]"
   ]
  },
  {
   "cell_type": "code",
   "execution_count": 28,
   "metadata": {},
   "outputs": [
    {
     "data": {
      "text/html": [
       "<div>\n",
       "<style scoped>\n",
       "    .dataframe tbody tr th:only-of-type {\n",
       "        vertical-align: middle;\n",
       "    }\n",
       "\n",
       "    .dataframe tbody tr th {\n",
       "        vertical-align: top;\n",
       "    }\n",
       "\n",
       "    .dataframe thead th {\n",
       "        text-align: right;\n",
       "    }\n",
       "</style>\n",
       "<table border=\"1\" class=\"dataframe\">\n",
       "  <thead>\n",
       "    <tr style=\"text-align: right;\">\n",
       "      <th></th>\n",
       "      <th>adult</th>\n",
       "      <th>id</th>\n",
       "      <th>original_language</th>\n",
       "      <th>original_title</th>\n",
       "      <th>overview</th>\n",
       "      <th>popularity</th>\n",
       "      <th>runtime</th>\n",
       "      <th>tagline</th>\n",
       "      <th>title</th>\n",
       "      <th>vote_average</th>\n",
       "      <th>vote_count</th>\n",
       "      <th>genres</th>\n",
       "      <th>release_year</th>\n",
       "      <th>overview_keywords</th>\n",
       "      <th>tags</th>\n",
       "      <th>directors</th>\n",
       "      <th>characters</th>\n",
       "      <th>actors</th>\n",
       "      <th>embeddings</th>\n",
       "      <th>similarity</th>\n",
       "    </tr>\n",
       "  </thead>\n",
       "  <tbody>\n",
       "    <tr>\n",
       "      <th>863</th>\n",
       "      <td>False</td>\n",
       "      <td>769</td>\n",
       "      <td>en</td>\n",
       "      <td>GoodFellas</td>\n",
       "      <td>The true story of Henry Hill, a half-Irish, ha...</td>\n",
       "      <td>15.424092</td>\n",
       "      <td>145.0</td>\n",
       "      <td>Three Decades of Life in the Mafia.</td>\n",
       "      <td>GoodFellas</td>\n",
       "      <td>8.2</td>\n",
       "      <td>3211.0</td>\n",
       "      <td>[Drama, Crime]</td>\n",
       "      <td>1990.0</td>\n",
       "      <td>The true story of Henry Hill, a half-Irish, ha...</td>\n",
       "      <td>[prison, based on novel, florida, 1970s, mass ...</td>\n",
       "      <td>[Martin Scorsese, Sheila Paige, Vebe Borge, Jo...</td>\n",
       "      <td>[James Conway, Henry Hill, Tommy DeVito]</td>\n",
       "      <td>[Robert De Niro, Ray Liotta, Joe Pesci]</td>\n",
       "      <td>[-0.1919301301240921, 0.04752841964364052, -0....</td>\n",
       "      <td>0.358755</td>\n",
       "    </tr>\n",
       "  </tbody>\n",
       "</table>\n",
       "</div>"
      ],
      "text/plain": [
       "     adult   id original_language original_title  \\\n",
       "863  False  769                en     GoodFellas   \n",
       "\n",
       "                                              overview  popularity  runtime  \\\n",
       "863  The true story of Henry Hill, a half-Irish, ha...   15.424092    145.0   \n",
       "\n",
       "                                 tagline       title  vote_average  \\\n",
       "863  Three Decades of Life in the Mafia.  GoodFellas           8.2   \n",
       "\n",
       "     vote_count          genres  release_year  \\\n",
       "863      3211.0  [Drama, Crime]        1990.0   \n",
       "\n",
       "                                     overview_keywords  \\\n",
       "863  The true story of Henry Hill, a half-Irish, ha...   \n",
       "\n",
       "                                                  tags  \\\n",
       "863  [prison, based on novel, florida, 1970s, mass ...   \n",
       "\n",
       "                                             directors  \\\n",
       "863  [Martin Scorsese, Sheila Paige, Vebe Borge, Jo...   \n",
       "\n",
       "                                   characters  \\\n",
       "863  [James Conway, Henry Hill, Tommy DeVito]   \n",
       "\n",
       "                                      actors  \\\n",
       "863  [Robert De Niro, Ray Liotta, Joe Pesci]   \n",
       "\n",
       "                                            embeddings  similarity  \n",
       "863  [-0.1919301301240921, 0.04752841964364052, -0....    0.358755  "
      ]
     },
     "execution_count": 28,
     "metadata": {},
     "output_type": "execute_result"
    }
   ],
   "source": [
    "find_movie(df_movies, \"goodfellas\")"
   ]
  },
  {
   "cell_type": "code",
   "execution_count": 29,
   "metadata": {},
   "outputs": [
    {
     "name": "stdout",
     "output_type": "stream",
     "text": [
      "search: GoodFellas\n"
     ]
    },
    {
     "data": {
      "text/plain": [
       "0         Casino\n",
       "1        Hoodlum\n",
       "2    Bella Mafia\n",
       "3     Black Mass\n",
       "4     The Pardon\n",
       "5          Belly\n",
       "6     Boomerang!\n",
       "7      Traveller\n",
       "8    The Funeral\n",
       "9     Auto Focus\n",
       "Name: title, dtype: object"
      ]
     },
     "execution_count": 29,
     "metadata": {},
     "output_type": "execute_result"
    }
   ],
   "source": [
    "heuristic_similarity(df_movies, 'goodfellas', 10)[\"title\"] "
   ]
  },
  {
   "cell_type": "code",
   "execution_count": 30,
   "metadata": {},
   "outputs": [
    {
     "name": "stdout",
     "output_type": "stream",
     "text": [
      "search: GoodFellas\n"
     ]
    },
    {
     "data": {
      "text/plain": [
       "8153          American Gangster\n",
       "15683               Black Souls\n",
       "871      The Godfather: Part II\n",
       "14640              The Gangster\n",
       "13832      Crime in the Streets\n",
       "4910                   Mobsters\n",
       "2406        The Boondock Saints\n",
       "14685         The Last Gangster\n",
       "1461       Jane Austen's Mafia!\n",
       "10138         Underworld U.S.A.\n",
       "Name: title, dtype: object"
      ]
     },
     "execution_count": 30,
     "metadata": {},
     "output_type": "execute_result"
    }
   ],
   "source": [
    "model_similarity(df_movies, 'goodfellas', 10)[\"title\"]"
   ]
  },
  {
   "cell_type": "code",
   "execution_count": 4,
   "metadata": {},
   "outputs": [
    {
     "data": {
      "text/html": [
       "<div>\n",
       "<style scoped>\n",
       "    .dataframe tbody tr th:only-of-type {\n",
       "        vertical-align: middle;\n",
       "    }\n",
       "\n",
       "    .dataframe tbody tr th {\n",
       "        vertical-align: top;\n",
       "    }\n",
       "\n",
       "    .dataframe thead th {\n",
       "        text-align: right;\n",
       "    }\n",
       "</style>\n",
       "<table border=\"1\" class=\"dataframe\">\n",
       "  <thead>\n",
       "    <tr style=\"text-align: right;\">\n",
       "      <th></th>\n",
       "      <th>adult</th>\n",
       "      <th>id</th>\n",
       "      <th>original_language</th>\n",
       "      <th>original_title</th>\n",
       "      <th>overview</th>\n",
       "      <th>popularity</th>\n",
       "      <th>runtime</th>\n",
       "      <th>tagline</th>\n",
       "      <th>title</th>\n",
       "      <th>vote_average</th>\n",
       "      <th>vote_count</th>\n",
       "      <th>genres</th>\n",
       "      <th>release_year</th>\n",
       "      <th>overview_keywords</th>\n",
       "      <th>tags</th>\n",
       "      <th>directors</th>\n",
       "      <th>characters</th>\n",
       "      <th>actors</th>\n",
       "      <th>embeddings</th>\n",
       "      <th>similarity</th>\n",
       "    </tr>\n",
       "  </thead>\n",
       "  <tbody>\n",
       "    <tr>\n",
       "      <th>246</th>\n",
       "      <td>False</td>\n",
       "      <td>278</td>\n",
       "      <td>en</td>\n",
       "      <td>The Shawshank Redemption</td>\n",
       "      <td>Framed in the 1940s for the double murder of h...</td>\n",
       "      <td>51.645403</td>\n",
       "      <td>142.0</td>\n",
       "      <td>Fear can hold you prisoner. Hope can set you f...</td>\n",
       "      <td>The Shawshank Redemption</td>\n",
       "      <td>8.5</td>\n",
       "      <td>8358.0</td>\n",
       "      <td>[Drama, Crime]</td>\n",
       "      <td>1994.0</td>\n",
       "      <td>Framed in the 1940s for the double murder of h...</td>\n",
       "      <td>[prison, corruption, police brutality, prison ...</td>\n",
       "      <td>[Frank Darabont, John R. Woodward, Thomas Sche...</td>\n",
       "      <td>[Andy Dufresne, Ellis Boyd 'Red' Redding, Ward...</td>\n",
       "      <td>[Tim Robbins, Morgan Freeman, Bob Gunton]</td>\n",
       "      <td>[-0.0664111077785492, -0.16056440770626068, -0...</td>\n",
       "      <td>0.246409</td>\n",
       "    </tr>\n",
       "  </tbody>\n",
       "</table>\n",
       "</div>"
      ],
      "text/plain": [
       "     adult   id original_language            original_title  \\\n",
       "246  False  278                en  The Shawshank Redemption   \n",
       "\n",
       "                                              overview  popularity  runtime  \\\n",
       "246  Framed in the 1940s for the double murder of h...   51.645403    142.0   \n",
       "\n",
       "                                               tagline  \\\n",
       "246  Fear can hold you prisoner. Hope can set you f...   \n",
       "\n",
       "                        title  vote_average  vote_count          genres  \\\n",
       "246  The Shawshank Redemption           8.5      8358.0  [Drama, Crime]   \n",
       "\n",
       "     release_year                                  overview_keywords  \\\n",
       "246        1994.0  Framed in the 1940s for the double murder of h...   \n",
       "\n",
       "                                                  tags  \\\n",
       "246  [prison, corruption, police brutality, prison ...   \n",
       "\n",
       "                                             directors  \\\n",
       "246  [Frank Darabont, John R. Woodward, Thomas Sche...   \n",
       "\n",
       "                                            characters  \\\n",
       "246  [Andy Dufresne, Ellis Boyd 'Red' Redding, Ward...   \n",
       "\n",
       "                                        actors  \\\n",
       "246  [Tim Robbins, Morgan Freeman, Bob Gunton]   \n",
       "\n",
       "                                            embeddings  similarity  \n",
       "246  [-0.0664111077785492, -0.16056440770626068, -0...    0.246409  "
      ]
     },
     "execution_count": 4,
     "metadata": {},
     "output_type": "execute_result"
    }
   ],
   "source": [
    "find_movie(df_movies, \"The Shawshank Redemption\")"
   ]
  },
  {
   "cell_type": "code",
   "execution_count": 9,
   "metadata": {},
   "outputs": [
    {
     "name": "stdout",
     "output_type": "stream",
     "text": [
      "Warning: Multiple films match the title pattern. Please provide a unique title or id.\n",
      "Found matching titles:\n",
      "          id            title\n",
      "856      389     12 Angry Men\n",
      "9870  149114  Seven Angry Men\n"
     ]
    }
   ],
   "source": [
    "find_movie(df_movies, \"angry men\")"
   ]
  },
  {
   "cell_type": "code",
   "execution_count": 14,
   "metadata": {},
   "outputs": [
    {
     "name": "stdout",
     "output_type": "stream",
     "text": [
      "search: 12 Angry Men\n"
     ]
    },
    {
     "data": {
      "text/plain": [
       "16432           Death Sentence\n",
       "3276               The Accused\n",
       "10320                    Trial\n",
       "14716    The Story on Page One\n",
       "61                   The Juror\n",
       "15887              The Accused\n",
       "11546            Guilty Hearts\n",
       "17252                   Circle\n",
       "17421     The Lady in Question\n",
       "19735              Eliminators\n",
       "Name: title, dtype: object"
      ]
     },
     "execution_count": 14,
     "metadata": {},
     "output_type": "execute_result"
    }
   ],
   "source": [
    "model_similarity(df_movies, '12 angry men', 10)[\"title\"]"
   ]
  },
  {
   "cell_type": "code",
   "execution_count": 14,
   "metadata": {},
   "outputs": [
    {
     "name": "stdout",
     "output_type": "stream",
     "text": [
      "search: Shrek\n"
     ]
    },
    {
     "data": {
      "text/plain": [
       "0                                             Shrek 2\n",
       "1                                 Shrek Forever After\n",
       "2                                     Shrek the Third\n",
       "3                                          The Smurfs\n",
       "4                                          The Croods\n",
       "5                            The Emperor's New Groove\n",
       "6                                 Horton Hears a Who!\n",
       "7                                       The Ant Bully\n",
       "8                                      The Lego Movie\n",
       "9    DuckTales: The Movie - Treasure of the Lost Lamp\n",
       "Name: title, dtype: object"
      ]
     },
     "execution_count": 14,
     "metadata": {},
     "output_type": "execute_result"
    }
   ],
   "source": [
    "heuristic_similarity(df_movies, \"Shrek\", 10)[\"title\"]"
   ]
  },
  {
   "cell_type": "code",
   "execution_count": 16,
   "metadata": {},
   "outputs": [
    {
     "data": {
      "text/html": [
       "<div>\n",
       "<style scoped>\n",
       "    .dataframe tbody tr th:only-of-type {\n",
       "        vertical-align: middle;\n",
       "    }\n",
       "\n",
       "    .dataframe tbody tr th {\n",
       "        vertical-align: top;\n",
       "    }\n",
       "\n",
       "    .dataframe thead th {\n",
       "        text-align: right;\n",
       "    }\n",
       "</style>\n",
       "<table border=\"1\" class=\"dataframe\">\n",
       "  <thead>\n",
       "    <tr style=\"text-align: right;\">\n",
       "      <th></th>\n",
       "      <th>adult</th>\n",
       "      <th>id</th>\n",
       "      <th>original_language</th>\n",
       "      <th>original_title</th>\n",
       "      <th>overview</th>\n",
       "      <th>popularity</th>\n",
       "      <th>runtime</th>\n",
       "      <th>tagline</th>\n",
       "      <th>title</th>\n",
       "      <th>vote_average</th>\n",
       "      <th>vote_count</th>\n",
       "      <th>genres</th>\n",
       "      <th>release_year</th>\n",
       "      <th>overview_keywords</th>\n",
       "      <th>tags</th>\n",
       "      <th>directors</th>\n",
       "      <th>characters</th>\n",
       "      <th>actors</th>\n",
       "      <th>embeddings</th>\n",
       "      <th>similarity</th>\n",
       "    </tr>\n",
       "  </thead>\n",
       "  <tbody>\n",
       "    <tr>\n",
       "      <th>1892</th>\n",
       "      <td>False</td>\n",
       "      <td>603</td>\n",
       "      <td>en</td>\n",
       "      <td>The Matrix</td>\n",
       "      <td>Set in the 22nd century, The Matrix tells the ...</td>\n",
       "      <td>33.366332</td>\n",
       "      <td>136.0</td>\n",
       "      <td>Welcome to the Real World.</td>\n",
       "      <td>The Matrix</td>\n",
       "      <td>7.9</td>\n",
       "      <td>9079.0</td>\n",
       "      <td>[Action, Science Fiction]</td>\n",
       "      <td>1999.0</td>\n",
       "      <td>Set in the 22nd century, The Matrix tells the ...</td>\n",
       "      <td>[saving the world, artificial intelligence, ma...</td>\n",
       "      <td>[Lana Wachowski, Lilly Wachowski, Victoria Sul...</td>\n",
       "      <td>[Thomas \"Neo\" Anderson, Morpheus, Trinity]</td>\n",
       "      <td>[Keanu Reeves, Laurence Fishburne, Carrie-Anne...</td>\n",
       "      <td>[-0.05520810931921005, -0.002622846281155944, ...</td>\n",
       "      <td>0.286453</td>\n",
       "    </tr>\n",
       "  </tbody>\n",
       "</table>\n",
       "</div>"
      ],
      "text/plain": [
       "      adult   id original_language original_title  \\\n",
       "1892  False  603                en     The Matrix   \n",
       "\n",
       "                                               overview  popularity  runtime  \\\n",
       "1892  Set in the 22nd century, The Matrix tells the ...   33.366332    136.0   \n",
       "\n",
       "                         tagline       title  vote_average  vote_count  \\\n",
       "1892  Welcome to the Real World.  The Matrix           7.9      9079.0   \n",
       "\n",
       "                         genres  release_year  \\\n",
       "1892  [Action, Science Fiction]        1999.0   \n",
       "\n",
       "                                      overview_keywords  \\\n",
       "1892  Set in the 22nd century, The Matrix tells the ...   \n",
       "\n",
       "                                                   tags  \\\n",
       "1892  [saving the world, artificial intelligence, ma...   \n",
       "\n",
       "                                              directors  \\\n",
       "1892  [Lana Wachowski, Lilly Wachowski, Victoria Sul...   \n",
       "\n",
       "                                      characters  \\\n",
       "1892  [Thomas \"Neo\" Anderson, Morpheus, Trinity]   \n",
       "\n",
       "                                                 actors  \\\n",
       "1892  [Keanu Reeves, Laurence Fishburne, Carrie-Anne...   \n",
       "\n",
       "                                             embeddings  similarity  \n",
       "1892  [-0.05520810931921005, -0.002622846281155944, ...    0.286453  "
      ]
     },
     "execution_count": 16,
     "metadata": {},
     "output_type": "execute_result"
    }
   ],
   "source": [
    "find_movie(df_movies, \"The Matrix\")"
   ]
  },
  {
   "cell_type": "code",
   "execution_count": 8,
   "metadata": {},
   "outputs": [
    {
     "data": {
      "text/html": [
       "<div>\n",
       "<style scoped>\n",
       "    .dataframe tbody tr th:only-of-type {\n",
       "        vertical-align: middle;\n",
       "    }\n",
       "\n",
       "    .dataframe tbody tr th {\n",
       "        vertical-align: top;\n",
       "    }\n",
       "\n",
       "    .dataframe thead th {\n",
       "        text-align: right;\n",
       "    }\n",
       "</style>\n",
       "<table border=\"1\" class=\"dataframe\">\n",
       "  <thead>\n",
       "    <tr style=\"text-align: right;\">\n",
       "      <th></th>\n",
       "      <th>adult</th>\n",
       "      <th>id</th>\n",
       "      <th>original_language</th>\n",
       "      <th>original_title</th>\n",
       "      <th>overview</th>\n",
       "      <th>popularity</th>\n",
       "      <th>runtime</th>\n",
       "      <th>tagline</th>\n",
       "      <th>title</th>\n",
       "      <th>vote_average</th>\n",
       "      <th>vote_count</th>\n",
       "      <th>genres</th>\n",
       "      <th>release_year</th>\n",
       "      <th>overview_keywords</th>\n",
       "      <th>tags</th>\n",
       "      <th>directors</th>\n",
       "      <th>characters</th>\n",
       "      <th>actors</th>\n",
       "      <th>embeddings</th>\n",
       "      <th>similarity</th>\n",
       "    </tr>\n",
       "  </thead>\n",
       "  <tbody>\n",
       "    <tr>\n",
       "      <th>18955</th>\n",
       "      <td>False</td>\n",
       "      <td>102961</td>\n",
       "      <td>en</td>\n",
       "      <td>Seven</td>\n",
       "      <td>A government agent discovers a plot by a carte...</td>\n",
       "      <td>0.621895</td>\n",
       "      <td>100.0</td>\n",
       "      <td>Death is their way of life!</td>\n",
       "      <td>Seven</td>\n",
       "      <td>5.9</td>\n",
       "      <td>8.0</td>\n",
       "      <td>[Action, Drama]</td>\n",
       "      <td>1979.0</td>\n",
       "      <td>A government agent discovers a plot by a carte...</td>\n",
       "      <td>[female nudity, assassin, girls with guns]</td>\n",
       "      <td>[Andy Sidaris]</td>\n",
       "      <td>[Drew, Paul, Senator]</td>\n",
       "      <td>[William Smith, John Alderman, Terry Kiser]</td>\n",
       "      <td>[-0.16699066758155823, -0.1230001151561737, -0...</td>\n",
       "      <td>0.317562</td>\n",
       "    </tr>\n",
       "  </tbody>\n",
       "</table>\n",
       "</div>"
      ],
      "text/plain": [
       "       adult      id original_language original_title  \\\n",
       "18955  False  102961                en          Seven   \n",
       "\n",
       "                                                overview  popularity  runtime  \\\n",
       "18955  A government agent discovers a plot by a carte...    0.621895    100.0   \n",
       "\n",
       "                           tagline  title  vote_average  vote_count  \\\n",
       "18955  Death is their way of life!  Seven           5.9         8.0   \n",
       "\n",
       "                genres  release_year  \\\n",
       "18955  [Action, Drama]        1979.0   \n",
       "\n",
       "                                       overview_keywords  \\\n",
       "18955  A government agent discovers a plot by a carte...   \n",
       "\n",
       "                                             tags       directors  \\\n",
       "18955  [female nudity, assassin, girls with guns]  [Andy Sidaris]   \n",
       "\n",
       "                  characters                                       actors  \\\n",
       "18955  [Drew, Paul, Senator]  [William Smith, John Alderman, Terry Kiser]   \n",
       "\n",
       "                                              embeddings  similarity  \n",
       "18955  [-0.16699066758155823, -0.1230001151561737, -0...    0.317562  "
      ]
     },
     "execution_count": 8,
     "metadata": {},
     "output_type": "execute_result"
    }
   ],
   "source": [
    "find_movie(df_movies, \"Seven\")"
   ]
  },
  {
   "cell_type": "code",
   "execution_count": 9,
   "metadata": {},
   "outputs": [
    {
     "name": "stdout",
     "output_type": "stream",
     "text": [
      "search: Seven\n"
     ]
    },
    {
     "data": {
      "text/plain": [
       "13981            The Seven-Ups\n",
       "20253                     Guns\n",
       "3184     The Magnificent Seven\n",
       "19297    The Magnificent Seven\n",
       "15837         Hitman: Agent 47\n",
       "20158                 Shooters\n",
       "11594        Seven Psychopaths\n",
       "20356     Under New Management\n",
       "17535      Criminal Activities\n",
       "9049                   The Mob\n",
       "Name: title, dtype: object"
      ]
     },
     "execution_count": 9,
     "metadata": {},
     "output_type": "execute_result"
    }
   ],
   "source": [
    "model_similarity(df_movies, 'Seven', 10)[\"title\"]"
   ]
  },
  {
   "cell_type": "code",
   "execution_count": null,
   "metadata": {},
   "outputs": [],
   "source": []
  }
 ],
 "metadata": {
  "kernelspec": {
   "display_name": "venv_ai",
   "language": "python",
   "name": "python3"
  },
  "language_info": {
   "codemirror_mode": {
    "name": "ipython",
    "version": 3
   },
   "file_extension": ".py",
   "mimetype": "text/x-python",
   "name": "python",
   "nbconvert_exporter": "python",
   "pygments_lexer": "ipython3",
   "version": "3.9.7"
  }
 },
 "nbformat": 4,
 "nbformat_minor": 2
}
