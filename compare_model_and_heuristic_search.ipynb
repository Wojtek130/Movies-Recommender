{
 "cells": [
  {
   "cell_type": "code",
   "execution_count": 10,
   "metadata": {},
   "outputs": [],
   "source": [
    "import pandas as pd\n",
    "import numpy as np\n",
    "import json\n",
    "\n",
    "from utils import model_similarity, heuristic_similarity, find_movie"
   ]
  },
  {
   "cell_type": "code",
   "execution_count": 2,
   "metadata": {},
   "outputs": [],
   "source": [
    "df_movies = pd.read_csv('dataset/movies_data_embeddings.csv', low_memory=False)\n",
    "df_movies['embeddings'] = df_movies['embeddings'].apply(json.loads)\n",
    "df_movies['embeddings'] = df_movies['embeddings'].apply(np.array)"
   ]
  },
  {
   "cell_type": "code",
   "execution_count": 11,
   "metadata": {},
   "outputs": [
    {
     "data": {
      "text/html": [
       "<div>\n",
       "<style scoped>\n",
       "    .dataframe tbody tr th:only-of-type {\n",
       "        vertical-align: middle;\n",
       "    }\n",
       "\n",
       "    .dataframe tbody tr th {\n",
       "        vertical-align: top;\n",
       "    }\n",
       "\n",
       "    .dataframe thead th {\n",
       "        text-align: right;\n",
       "    }\n",
       "</style>\n",
       "<table border=\"1\" class=\"dataframe\">\n",
       "  <thead>\n",
       "    <tr style=\"text-align: right;\">\n",
       "      <th></th>\n",
       "      <th>adult</th>\n",
       "      <th>id</th>\n",
       "      <th>original_language</th>\n",
       "      <th>original_title</th>\n",
       "      <th>overview</th>\n",
       "      <th>popularity</th>\n",
       "      <th>runtime</th>\n",
       "      <th>tagline</th>\n",
       "      <th>title</th>\n",
       "      <th>vote_average</th>\n",
       "      <th>vote_count</th>\n",
       "      <th>genres</th>\n",
       "      <th>release_year</th>\n",
       "      <th>overview_keywords</th>\n",
       "      <th>tags</th>\n",
       "      <th>directors</th>\n",
       "      <th>characters</th>\n",
       "      <th>actors</th>\n",
       "      <th>embeddings</th>\n",
       "      <th>similarity</th>\n",
       "    </tr>\n",
       "  </thead>\n",
       "  <tbody>\n",
       "    <tr>\n",
       "      <th>8335</th>\n",
       "      <td>False</td>\n",
       "      <td>155</td>\n",
       "      <td>en</td>\n",
       "      <td>The Dark Knight</td>\n",
       "      <td>Batman raises the stakes in his war on crime. ...</td>\n",
       "      <td>123.167259</td>\n",
       "      <td>152.0</td>\n",
       "      <td>Why So Serious?</td>\n",
       "      <td>The Dark Knight</td>\n",
       "      <td>8.3</td>\n",
       "      <td>12269.0</td>\n",
       "      <td>['Drama', 'Action', 'Crime', 'Thriller']</td>\n",
       "      <td>2008.0</td>\n",
       "      <td>['batman', 'raise', 'stake', 'war', 'crime', '...</td>\n",
       "      <td>['dc comics', 'crime fighter', 'secret identit...</td>\n",
       "      <td>['Christopher Nolan', 'Steve Gehrke', 'Nilo Ot...</td>\n",
       "      <td>['Bruce Wayne / Batman', 'Alfred Pennyworth', ...</td>\n",
       "      <td>['Christian Bale', 'Michael Caine', 'Heath Led...</td>\n",
       "      <td>[-0.008470066823065281, -0.07082076370716095, ...</td>\n",
       "      <td>0.397753</td>\n",
       "    </tr>\n",
       "  </tbody>\n",
       "</table>\n",
       "</div>"
      ],
      "text/plain": [
       "      adult   id original_language   original_title  \\\n",
       "8335  False  155                en  The Dark Knight   \n",
       "\n",
       "                                               overview  popularity  runtime  \\\n",
       "8335  Batman raises the stakes in his war on crime. ...  123.167259    152.0   \n",
       "\n",
       "              tagline            title  vote_average  vote_count  \\\n",
       "8335  Why So Serious?  The Dark Knight           8.3     12269.0   \n",
       "\n",
       "                                        genres  release_year  \\\n",
       "8335  ['Drama', 'Action', 'Crime', 'Thriller']        2008.0   \n",
       "\n",
       "                                      overview_keywords  \\\n",
       "8335  ['batman', 'raise', 'stake', 'war', 'crime', '...   \n",
       "\n",
       "                                                   tags  \\\n",
       "8335  ['dc comics', 'crime fighter', 'secret identit...   \n",
       "\n",
       "                                              directors  \\\n",
       "8335  ['Christopher Nolan', 'Steve Gehrke', 'Nilo Ot...   \n",
       "\n",
       "                                             characters  \\\n",
       "8335  ['Bruce Wayne / Batman', 'Alfred Pennyworth', ...   \n",
       "\n",
       "                                                 actors  \\\n",
       "8335  ['Christian Bale', 'Michael Caine', 'Heath Led...   \n",
       "\n",
       "                                             embeddings  similarity  \n",
       "8335  [-0.008470066823065281, -0.07082076370716095, ...    0.397753  "
      ]
     },
     "execution_count": 11,
     "metadata": {},
     "output_type": "execute_result"
    }
   ],
   "source": [
    "find_movie(df_movies, 'The Dark Knight')"
   ]
  },
  {
   "cell_type": "code",
   "execution_count": 7,
   "metadata": {},
   "outputs": [
    {
     "name": "stdout",
     "output_type": "stream",
     "text": [
      "search: The Dark Knight\n"
     ]
    },
    {
     "data": {
      "text/plain": [
       "0    The Dark Knight Rises\n",
       "1            Batman Begins\n",
       "2                Wild Bill\n",
       "3       All the King's Men\n",
       "4               The Wraith\n",
       "5                Breakdown\n",
       "6         Batman vs. Robin\n",
       "7          One Missed Call\n",
       "8           Mercury Rising\n",
       "9            The Final Cut\n",
       "Name: title, dtype: object"
      ]
     },
     "execution_count": 7,
     "metadata": {},
     "output_type": "execute_result"
    }
   ],
   "source": [
    "heuristic_similarity(df_movies, 'The Dark Knight', 10)[\"title\"]"
   ]
  },
  {
   "cell_type": "code",
   "execution_count": 8,
   "metadata": {},
   "outputs": [
    {
     "name": "stdout",
     "output_type": "stream",
     "text": [
      "search: The Dark Knight\n"
     ]
    },
    {
     "data": {
      "text/plain": [
       "11013                      The Dark Knight Rises\n",
       "451                                       Batman\n",
       "6984                               Batman Begins\n",
       "11691    Batman: The Dark Knight Returns, Part 1\n",
       "8534                       Batman: Gotham Knight\n",
       "6530          Batman Beyond: Return of the Joker\n",
       "10915                           Batman: Year One\n",
       "112                               Batman Forever\n",
       "11860    Batman: The Dark Knight Returns, Part 2\n",
       "16306         Batman v Superman: Dawn of Justice\n",
       "Name: title, dtype: object"
      ]
     },
     "execution_count": 8,
     "metadata": {},
     "output_type": "execute_result"
    }
   ],
   "source": [
    "model_similarity(df_movies, 'The Dark Knight', 10)[\"title\"]"
   ]
  },
  {
   "cell_type": "code",
   "execution_count": 5,
   "metadata": {},
   "outputs": [
    {
     "name": "stdout",
     "output_type": "stream",
     "text": [
      "search: Iron Man 3\n"
     ]
    },
    {
     "data": {
      "text/html": [
       "<div>\n",
       "<style scoped>\n",
       "    .dataframe tbody tr th:only-of-type {\n",
       "        vertical-align: middle;\n",
       "    }\n",
       "\n",
       "    .dataframe tbody tr th {\n",
       "        vertical-align: top;\n",
       "    }\n",
       "\n",
       "    .dataframe thead th {\n",
       "        text-align: right;\n",
       "    }\n",
       "</style>\n",
       "<table border=\"1\" class=\"dataframe\">\n",
       "  <thead>\n",
       "    <tr style=\"text-align: right;\">\n",
       "      <th></th>\n",
       "      <th>id</th>\n",
       "      <th>title</th>\n",
       "      <th>genres</th>\n",
       "      <th>overview_keywords</th>\n",
       "      <th>tags</th>\n",
       "      <th>characters</th>\n",
       "      <th>directors</th>\n",
       "      <th>actors</th>\n",
       "    </tr>\n",
       "  </thead>\n",
       "  <tbody>\n",
       "    <tr>\n",
       "      <th>8392</th>\n",
       "      <td>1726</td>\n",
       "      <td>Iron Man</td>\n",
       "      <td>['Action', 'Science Fiction', 'Adventure']</td>\n",
       "      <td>['hold', 'captive', 'afghan', 'cave', 'billion...</td>\n",
       "      <td>['middle east', 'arms dealer', 'malibu', 'marv...</td>\n",
       "      <td>['Tony Stark / Iron Man', 'Lt. Col. James \"Rho...</td>\n",
       "      <td>['Jon Favreau', 'Cristina Weigmann']</td>\n",
       "      <td>['Robert Downey Jr.', 'Terrence Howard', 'Jeff...</td>\n",
       "    </tr>\n",
       "    <tr>\n",
       "      <th>9656</th>\n",
       "      <td>10138</td>\n",
       "      <td>Iron Man 2</td>\n",
       "      <td>['Adventure', 'Action', 'Science Fiction']</td>\n",
       "      <td>['world', 'aware', 'dual', 'armored', 'superhe...</td>\n",
       "      <td>['malibu', 'marvel comic', 'superhero', 'based...</td>\n",
       "      <td>['Tony Stark / Iron Man', 'Virginia \"Pepper\" P...</td>\n",
       "      <td>['Jon Favreau']</td>\n",
       "      <td>['Robert Downey Jr.', 'Gwyneth Paltrow', 'Don ...</td>\n",
       "    </tr>\n",
       "    <tr>\n",
       "      <th>12094</th>\n",
       "      <td>169934</td>\n",
       "      <td>Iron Man: Rise of Technovore</td>\n",
       "      <td>['Science Fiction', 'Animation', 'Action']</td>\n",
       "      <td>['iron', 'man', 'enlist', 'help', 'ruthless', ...</td>\n",
       "      <td>['marvel comic', 'superhero', 'based on comic'...</td>\n",
       "      <td>['Frank Castle / The Punisher (voice)', 'Tony ...</td>\n",
       "      <td>['Hiroshi Hamazaki', 'Kenichi Kawamura', 'Shin...</td>\n",
       "      <td>['Tesshou Genda', 'Keiji Fujiwara', 'Miyu Irino']</td>\n",
       "    </tr>\n",
       "    <tr>\n",
       "      <th>10825</th>\n",
       "      <td>24428</td>\n",
       "      <td>The Avengers</td>\n",
       "      <td>['Science Fiction', 'Action', 'Adventure']</td>\n",
       "      <td>['unexpected', 'enemy', 'emerge', 'threaten', ...</td>\n",
       "      <td>['new york', 'shield', 'marvel comic', 'superh...</td>\n",
       "      <td>['Tony Stark / Iron Man', 'Steve Rogers / Capt...</td>\n",
       "      <td>['Joss Whedon', 'Trudy Ramirez']</td>\n",
       "      <td>['Robert Downey Jr.', 'Chris Evans', 'Mark Ruf...</td>\n",
       "    </tr>\n",
       "    <tr>\n",
       "      <th>12088</th>\n",
       "      <td>13647</td>\n",
       "      <td>The Invincible Iron Man</td>\n",
       "      <td>['Animation', 'Action', 'Science Fiction']</td>\n",
       "      <td>['cocky', 'industrialist', 'effort', 'raise', ...</td>\n",
       "      <td>['prophecy', 'armor', 'marvel comic', 'billion...</td>\n",
       "      <td>['Tony Stark Iron Man', 'Li Mei', 'Howard Stark']</td>\n",
       "      <td>['Jay Oliva', 'Patrick Archibald']</td>\n",
       "      <td>['Marc Worden', 'Gwendoline Yeo', 'John McCook']</td>\n",
       "    </tr>\n",
       "    <tr>\n",
       "      <th>16225</th>\n",
       "      <td>284274</td>\n",
       "      <td>Iron Man &amp; Captain America: Heroes United</td>\n",
       "      <td>['Adventure', 'Animation', 'Action']</td>\n",
       "      <td>['iron', 'man', 'captain', 'america', 'battle'...</td>\n",
       "      <td>['marvel comic', 'superhero', 'based on comic']</td>\n",
       "      <td>['Iron Man / Tony Stark (voice)', 'Captain Ame...</td>\n",
       "      <td>['Leo Riley']</td>\n",
       "      <td>['Adrian Pasdar', 'Roger Craig Smith', 'Fred T...</td>\n",
       "    </tr>\n",
       "    <tr>\n",
       "      <th>14613</th>\n",
       "      <td>271110</td>\n",
       "      <td>Captain America: Civil War</td>\n",
       "      <td>['Adventure', 'Action', 'Science Fiction']</td>\n",
       "      <td>['follow', 'event', 'age', 'ultron', 'collecti...</td>\n",
       "      <td>['civil war', 'war', 'marvel comic', 'sequel',...</td>\n",
       "      <td>['Steve Rogers / Captain America', 'Tony Stark...</td>\n",
       "      <td>['Anthony Russo', 'Joe Russo', 'Joe Russo']</td>\n",
       "      <td>['Chris Evans', 'Robert Downey Jr.', 'Scarlett...</td>\n",
       "    </tr>\n",
       "    <tr>\n",
       "      <th>14608</th>\n",
       "      <td>99861</td>\n",
       "      <td>Avengers: Age of Ultron</td>\n",
       "      <td>['Action', 'Adventure', 'Science Fiction']</td>\n",
       "      <td>['tony', 'stark', 'try', 'jumpstart', 'dormant...</td>\n",
       "      <td>['marvel comic', 'sequel', 'superhero', 'based...</td>\n",
       "      <td>['Tony Stark / Iron Man', 'Thor Odinson', 'Bru...</td>\n",
       "      <td>['Joss Whedon']</td>\n",
       "      <td>['Robert Downey Jr.', 'Chris Hemsworth', 'Mark...</td>\n",
       "    </tr>\n",
       "    <tr>\n",
       "      <th>12212</th>\n",
       "      <td>49521</td>\n",
       "      <td>Man of Steel</td>\n",
       "      <td>['Action', 'Adventure', 'Fantasy', 'Science Fi...</td>\n",
       "      <td>['young', 'boy', 'learn', 'extraordinary', 'po...</td>\n",
       "      <td>['saving the world', 'dc comics', 'superhero',...</td>\n",
       "      <td>['Clark Kent / Kal-El', 'Lois Lane', 'General ...</td>\n",
       "      <td>['Zack Snyder']</td>\n",
       "      <td>['Henry Cavill', 'Amy Adams', 'Michael Shannon']</td>\n",
       "    </tr>\n",
       "    <tr>\n",
       "      <th>7931</th>\n",
       "      <td>559</td>\n",
       "      <td>Spider-Man 3</td>\n",
       "      <td>['Fantasy', 'Action', 'Adventure']</td>\n",
       "      <td>['seemingly', 'invincible', 'spiderman', 'alln...</td>\n",
       "      <td>['dual identity', 'amnesia', 'sandstorm', \"lov...</td>\n",
       "      <td>['Peter Parker / Spider-Man', 'Mary Jane Watso...</td>\n",
       "      <td>['Sam Raimi', 'Trudy Ramirez']</td>\n",
       "      <td>['Tobey Maguire', 'Kirsten Dunst', 'James Fran...</td>\n",
       "    </tr>\n",
       "  </tbody>\n",
       "</table>\n",
       "</div>"
      ],
      "text/plain": [
       "           id                                      title  \\\n",
       "8392     1726                                   Iron Man   \n",
       "9656    10138                                 Iron Man 2   \n",
       "12094  169934               Iron Man: Rise of Technovore   \n",
       "10825   24428                               The Avengers   \n",
       "12088   13647                    The Invincible Iron Man   \n",
       "16225  284274  Iron Man & Captain America: Heroes United   \n",
       "14613  271110                 Captain America: Civil War   \n",
       "14608   99861                    Avengers: Age of Ultron   \n",
       "12212   49521                               Man of Steel   \n",
       "7931      559                               Spider-Man 3   \n",
       "\n",
       "                                                  genres  \\\n",
       "8392          ['Action', 'Science Fiction', 'Adventure']   \n",
       "9656          ['Adventure', 'Action', 'Science Fiction']   \n",
       "12094         ['Science Fiction', 'Animation', 'Action']   \n",
       "10825         ['Science Fiction', 'Action', 'Adventure']   \n",
       "12088         ['Animation', 'Action', 'Science Fiction']   \n",
       "16225               ['Adventure', 'Animation', 'Action']   \n",
       "14613         ['Adventure', 'Action', 'Science Fiction']   \n",
       "14608         ['Action', 'Adventure', 'Science Fiction']   \n",
       "12212  ['Action', 'Adventure', 'Fantasy', 'Science Fi...   \n",
       "7931                  ['Fantasy', 'Action', 'Adventure']   \n",
       "\n",
       "                                       overview_keywords  \\\n",
       "8392   ['hold', 'captive', 'afghan', 'cave', 'billion...   \n",
       "9656   ['world', 'aware', 'dual', 'armored', 'superhe...   \n",
       "12094  ['iron', 'man', 'enlist', 'help', 'ruthless', ...   \n",
       "10825  ['unexpected', 'enemy', 'emerge', 'threaten', ...   \n",
       "12088  ['cocky', 'industrialist', 'effort', 'raise', ...   \n",
       "16225  ['iron', 'man', 'captain', 'america', 'battle'...   \n",
       "14613  ['follow', 'event', 'age', 'ultron', 'collecti...   \n",
       "14608  ['tony', 'stark', 'try', 'jumpstart', 'dormant...   \n",
       "12212  ['young', 'boy', 'learn', 'extraordinary', 'po...   \n",
       "7931   ['seemingly', 'invincible', 'spiderman', 'alln...   \n",
       "\n",
       "                                                    tags  \\\n",
       "8392   ['middle east', 'arms dealer', 'malibu', 'marv...   \n",
       "9656   ['malibu', 'marvel comic', 'superhero', 'based...   \n",
       "12094  ['marvel comic', 'superhero', 'based on comic'...   \n",
       "10825  ['new york', 'shield', 'marvel comic', 'superh...   \n",
       "12088  ['prophecy', 'armor', 'marvel comic', 'billion...   \n",
       "16225    ['marvel comic', 'superhero', 'based on comic']   \n",
       "14613  ['civil war', 'war', 'marvel comic', 'sequel',...   \n",
       "14608  ['marvel comic', 'sequel', 'superhero', 'based...   \n",
       "12212  ['saving the world', 'dc comics', 'superhero',...   \n",
       "7931   ['dual identity', 'amnesia', 'sandstorm', \"lov...   \n",
       "\n",
       "                                              characters  \\\n",
       "8392   ['Tony Stark / Iron Man', 'Lt. Col. James \"Rho...   \n",
       "9656   ['Tony Stark / Iron Man', 'Virginia \"Pepper\" P...   \n",
       "12094  ['Frank Castle / The Punisher (voice)', 'Tony ...   \n",
       "10825  ['Tony Stark / Iron Man', 'Steve Rogers / Capt...   \n",
       "12088  ['Tony Stark Iron Man', 'Li Mei', 'Howard Stark']   \n",
       "16225  ['Iron Man / Tony Stark (voice)', 'Captain Ame...   \n",
       "14613  ['Steve Rogers / Captain America', 'Tony Stark...   \n",
       "14608  ['Tony Stark / Iron Man', 'Thor Odinson', 'Bru...   \n",
       "12212  ['Clark Kent / Kal-El', 'Lois Lane', 'General ...   \n",
       "7931   ['Peter Parker / Spider-Man', 'Mary Jane Watso...   \n",
       "\n",
       "                                               directors  \\\n",
       "8392                ['Jon Favreau', 'Cristina Weigmann']   \n",
       "9656                                     ['Jon Favreau']   \n",
       "12094  ['Hiroshi Hamazaki', 'Kenichi Kawamura', 'Shin...   \n",
       "10825                   ['Joss Whedon', 'Trudy Ramirez']   \n",
       "12088                 ['Jay Oliva', 'Patrick Archibald']   \n",
       "16225                                      ['Leo Riley']   \n",
       "14613        ['Anthony Russo', 'Joe Russo', 'Joe Russo']   \n",
       "14608                                    ['Joss Whedon']   \n",
       "12212                                    ['Zack Snyder']   \n",
       "7931                      ['Sam Raimi', 'Trudy Ramirez']   \n",
       "\n",
       "                                                  actors  \n",
       "8392   ['Robert Downey Jr.', 'Terrence Howard', 'Jeff...  \n",
       "9656   ['Robert Downey Jr.', 'Gwyneth Paltrow', 'Don ...  \n",
       "12094  ['Tesshou Genda', 'Keiji Fujiwara', 'Miyu Irino']  \n",
       "10825  ['Robert Downey Jr.', 'Chris Evans', 'Mark Ruf...  \n",
       "12088   ['Marc Worden', 'Gwendoline Yeo', 'John McCook']  \n",
       "16225  ['Adrian Pasdar', 'Roger Craig Smith', 'Fred T...  \n",
       "14613  ['Chris Evans', 'Robert Downey Jr.', 'Scarlett...  \n",
       "14608  ['Robert Downey Jr.', 'Chris Hemsworth', 'Mark...  \n",
       "12212   ['Henry Cavill', 'Amy Adams', 'Michael Shannon']  \n",
       "7931   ['Tobey Maguire', 'Kirsten Dunst', 'James Fran...  "
      ]
     },
     "execution_count": 5,
     "metadata": {},
     "output_type": "execute_result"
    }
   ],
   "source": [
    "model_similarity(df_movies, 68721, 10)"
   ]
  },
  {
   "cell_type": "code",
   "execution_count": 13,
   "metadata": {},
   "outputs": [
    {
     "data": {
      "text/html": [
       "<div>\n",
       "<style scoped>\n",
       "    .dataframe tbody tr th:only-of-type {\n",
       "        vertical-align: middle;\n",
       "    }\n",
       "\n",
       "    .dataframe tbody tr th {\n",
       "        vertical-align: top;\n",
       "    }\n",
       "\n",
       "    .dataframe thead th {\n",
       "        text-align: right;\n",
       "    }\n",
       "</style>\n",
       "<table border=\"1\" class=\"dataframe\">\n",
       "  <thead>\n",
       "    <tr style=\"text-align: right;\">\n",
       "      <th></th>\n",
       "      <th>adult</th>\n",
       "      <th>id</th>\n",
       "      <th>original_language</th>\n",
       "      <th>original_title</th>\n",
       "      <th>overview</th>\n",
       "      <th>popularity</th>\n",
       "      <th>runtime</th>\n",
       "      <th>tagline</th>\n",
       "      <th>title</th>\n",
       "      <th>vote_average</th>\n",
       "      <th>vote_count</th>\n",
       "      <th>genres</th>\n",
       "      <th>release_year</th>\n",
       "      <th>overview_keywords</th>\n",
       "      <th>tags</th>\n",
       "      <th>directors</th>\n",
       "      <th>characters</th>\n",
       "      <th>actors</th>\n",
       "      <th>embeddings</th>\n",
       "      <th>similarity</th>\n",
       "    </tr>\n",
       "  </thead>\n",
       "  <tbody>\n",
       "    <tr>\n",
       "      <th>3170</th>\n",
       "      <td>False</td>\n",
       "      <td>808</td>\n",
       "      <td>en</td>\n",
       "      <td>Shrek</td>\n",
       "      <td>It ain't easy bein' green -- especially if you...</td>\n",
       "      <td>17.987728</td>\n",
       "      <td>90.0</td>\n",
       "      <td>The greatest fairy tale never told.</td>\n",
       "      <td>Shrek</td>\n",
       "      <td>7.3</td>\n",
       "      <td>4183.0</td>\n",
       "      <td>['Adventure', 'Animation', 'Comedy', 'Family',...</td>\n",
       "      <td>2001.0</td>\n",
       "      <td>['easy', 'bein', 'green', 'especially', 'likab...</td>\n",
       "      <td>['magic', 'liberation', 'lordship', 'castle', ...</td>\n",
       "      <td>['Andrew Adamson', 'Vicky Jenson', 'Denise Nol...</td>\n",
       "      <td>['Shrek (voice)', 'Donkey (voice)', 'Princess ...</td>\n",
       "      <td>['Mike Myers', 'Eddie Murphy', 'Cameron Diaz']</td>\n",
       "      <td>[-0.21237385272979736, -0.01747782714664936, 0...</td>\n",
       "      <td>0.15386</td>\n",
       "    </tr>\n",
       "  </tbody>\n",
       "</table>\n",
       "</div>"
      ],
      "text/plain": [
       "      adult   id original_language original_title  \\\n",
       "3170  False  808                en          Shrek   \n",
       "\n",
       "                                               overview  popularity  runtime  \\\n",
       "3170  It ain't easy bein' green -- especially if you...   17.987728     90.0   \n",
       "\n",
       "                                  tagline  title  vote_average  vote_count  \\\n",
       "3170  The greatest fairy tale never told.  Shrek           7.3      4183.0   \n",
       "\n",
       "                                                 genres  release_year  \\\n",
       "3170  ['Adventure', 'Animation', 'Comedy', 'Family',...        2001.0   \n",
       "\n",
       "                                      overview_keywords  \\\n",
       "3170  ['easy', 'bein', 'green', 'especially', 'likab...   \n",
       "\n",
       "                                                   tags  \\\n",
       "3170  ['magic', 'liberation', 'lordship', 'castle', ...   \n",
       "\n",
       "                                              directors  \\\n",
       "3170  ['Andrew Adamson', 'Vicky Jenson', 'Denise Nol...   \n",
       "\n",
       "                                             characters  \\\n",
       "3170  ['Shrek (voice)', 'Donkey (voice)', 'Princess ...   \n",
       "\n",
       "                                              actors  \\\n",
       "3170  ['Mike Myers', 'Eddie Murphy', 'Cameron Diaz']   \n",
       "\n",
       "                                             embeddings  similarity  \n",
       "3170  [-0.21237385272979736, -0.01747782714664936, 0...     0.15386  "
      ]
     },
     "execution_count": 13,
     "metadata": {},
     "output_type": "execute_result"
    }
   ],
   "source": [
    "find_movie(df_movies, \"Shrek\")"
   ]
  },
  {
   "cell_type": "code",
   "execution_count": 14,
   "metadata": {},
   "outputs": [
    {
     "name": "stdout",
     "output_type": "stream",
     "text": [
      "search: Shrek\n"
     ]
    },
    {
     "data": {
      "text/plain": [
       "0                                   Shrek 2\n",
       "1                           Shrek the Third\n",
       "2                       Shrek Forever After\n",
       "3                          Cats Don't Dance\n",
       "4                                   Ice Age\n",
       "5                           Treasure Planet\n",
       "6                     Rise of the Guardians\n",
       "7    Alvin and the Chipmunks: The Road Chip\n",
       "8                Ice Age: Continental Drift\n",
       "9                 Ice Age: Collision Course\n",
       "Name: title, dtype: object"
      ]
     },
     "execution_count": 14,
     "metadata": {},
     "output_type": "execute_result"
    }
   ],
   "source": [
    "heuristic_similarity(df_movies, 'Shrek', 10)[\"title\"]"
   ]
  },
  {
   "cell_type": "code",
   "execution_count": 15,
   "metadata": {},
   "outputs": [
    {
     "name": "stdout",
     "output_type": "stream",
     "text": [
      "search: Shrek\n"
     ]
    },
    {
     "data": {
      "text/plain": [
       "9752      Shrek Forever After\n",
       "5602                  Shrek 2\n",
       "7956          Shrek the Third\n",
       "1508          Sleeping Beauty\n",
       "10112                 Tangled\n",
       "1496       The Little Mermaid\n",
       "447                   Aladdin\n",
       "454      Beauty and the Beast\n",
       "493               DragonHeart\n",
       "241         The Swan Princess\n",
       "Name: title, dtype: object"
      ]
     },
     "execution_count": 15,
     "metadata": {},
     "output_type": "execute_result"
    }
   ],
   "source": [
    "model_similarity(df_movies, 'Shrek', 10)[\"title\"]"
   ]
  },
  {
   "cell_type": "code",
   "execution_count": 16,
   "metadata": {},
   "outputs": [
    {
     "data": {
      "text/html": [
       "<div>\n",
       "<style scoped>\n",
       "    .dataframe tbody tr th:only-of-type {\n",
       "        vertical-align: middle;\n",
       "    }\n",
       "\n",
       "    .dataframe tbody tr th {\n",
       "        vertical-align: top;\n",
       "    }\n",
       "\n",
       "    .dataframe thead th {\n",
       "        text-align: right;\n",
       "    }\n",
       "</style>\n",
       "<table border=\"1\" class=\"dataframe\">\n",
       "  <thead>\n",
       "    <tr style=\"text-align: right;\">\n",
       "      <th></th>\n",
       "      <th>adult</th>\n",
       "      <th>id</th>\n",
       "      <th>original_language</th>\n",
       "      <th>original_title</th>\n",
       "      <th>overview</th>\n",
       "      <th>popularity</th>\n",
       "      <th>runtime</th>\n",
       "      <th>tagline</th>\n",
       "      <th>title</th>\n",
       "      <th>vote_average</th>\n",
       "      <th>vote_count</th>\n",
       "      <th>genres</th>\n",
       "      <th>release_year</th>\n",
       "      <th>overview_keywords</th>\n",
       "      <th>tags</th>\n",
       "      <th>directors</th>\n",
       "      <th>characters</th>\n",
       "      <th>actors</th>\n",
       "      <th>embeddings</th>\n",
       "      <th>similarity</th>\n",
       "    </tr>\n",
       "  </thead>\n",
       "  <tbody>\n",
       "    <tr>\n",
       "      <th>3670</th>\n",
       "      <td>False</td>\n",
       "      <td>120</td>\n",
       "      <td>en</td>\n",
       "      <td>The Lord of the Rings: The Fellowship of the Ring</td>\n",
       "      <td>Young hobbit Frodo Baggins, after inheriting a...</td>\n",
       "      <td>32.070725</td>\n",
       "      <td>178.0</td>\n",
       "      <td>One ring to rule them all</td>\n",
       "      <td>The Lord of the Rings: The Fellowship of the Ring</td>\n",
       "      <td>8.0</td>\n",
       "      <td>8892.0</td>\n",
       "      <td>['Adventure', 'Fantasy', 'Action']</td>\n",
       "      <td>2001.0</td>\n",
       "      <td>['young', 'hobbit', 'frodo', 'baggin', 'inheri...</td>\n",
       "      <td>['elves', 'dwarves', 'orcs', 'middle-earth (to...</td>\n",
       "      <td>['Peter Jackson']</td>\n",
       "      <td>['Frodo Baggins', 'Gandalf the Grey', 'Galadri...</td>\n",
       "      <td>['Elijah Wood', 'Ian McKellen', 'Cate Blanchett']</td>\n",
       "      <td>[-0.067982979118824, 0.011018718592822552, -0....</td>\n",
       "      <td>0.026405</td>\n",
       "    </tr>\n",
       "  </tbody>\n",
       "</table>\n",
       "</div>"
      ],
      "text/plain": [
       "      adult   id original_language  \\\n",
       "3670  False  120                en   \n",
       "\n",
       "                                         original_title  \\\n",
       "3670  The Lord of the Rings: The Fellowship of the Ring   \n",
       "\n",
       "                                               overview  popularity  runtime  \\\n",
       "3670  Young hobbit Frodo Baggins, after inheriting a...   32.070725    178.0   \n",
       "\n",
       "                        tagline  \\\n",
       "3670  One ring to rule them all   \n",
       "\n",
       "                                                  title  vote_average  \\\n",
       "3670  The Lord of the Rings: The Fellowship of the Ring           8.0   \n",
       "\n",
       "      vote_count                              genres  release_year  \\\n",
       "3670      8892.0  ['Adventure', 'Fantasy', 'Action']        2001.0   \n",
       "\n",
       "                                      overview_keywords  \\\n",
       "3670  ['young', 'hobbit', 'frodo', 'baggin', 'inheri...   \n",
       "\n",
       "                                                   tags          directors  \\\n",
       "3670  ['elves', 'dwarves', 'orcs', 'middle-earth (to...  ['Peter Jackson']   \n",
       "\n",
       "                                             characters  \\\n",
       "3670  ['Frodo Baggins', 'Gandalf the Grey', 'Galadri...   \n",
       "\n",
       "                                                 actors  \\\n",
       "3670  ['Elijah Wood', 'Ian McKellen', 'Cate Blanchett']   \n",
       "\n",
       "                                             embeddings  similarity  \n",
       "3670  [-0.067982979118824, 0.011018718592822552, -0....    0.026405  "
      ]
     },
     "execution_count": 16,
     "metadata": {},
     "output_type": "execute_result"
    }
   ],
   "source": [
    "find_movie(df_movies, \"The Lord of the Rings: The Fellowship of the Ring\")"
   ]
  },
  {
   "cell_type": "code",
   "execution_count": 17,
   "metadata": {},
   "outputs": [
    {
     "name": "stdout",
     "output_type": "stream",
     "text": [
      "search: The Lord of the Rings: The Fellowship of the Ring\n"
     ]
    },
    {
     "data": {
      "text/plain": [
       "0            The Lord of the Rings: The Two Towers\n",
       "1    The Lord of the Rings: The Return of the King\n",
       "2        The Hobbit: The Battle of the Five Armies\n",
       "3                                Beowulf & Grendel\n",
       "4                The Hobbit: An Unexpected Journey\n",
       "5                                        Go Figure\n",
       "6                              The Hunt for Gollum\n",
       "7                                 The Great Escape\n",
       "8                                     The Revenant\n",
       "9                                         Cop Land\n",
       "Name: title, dtype: object"
      ]
     },
     "execution_count": 17,
     "metadata": {},
     "output_type": "execute_result"
    }
   ],
   "source": [
    "heuristic_similarity(df_movies, 'The Lord of the Rings: The Fellowship of the Ring', 10)[\"title\"]"
   ]
  },
  {
   "cell_type": "code",
   "execution_count": 18,
   "metadata": {},
   "outputs": [
    {
     "name": "stdout",
     "output_type": "stream",
     "text": [
      "search: The Lord of the Rings: The Fellowship of the Ring\n"
     ]
    },
    {
     "data": {
      "text/plain": [
       "1523                             The Lord of the Rings\n",
       "5109     The Lord of the Rings: The Return of the King\n",
       "4321             The Lord of the Rings: The Two Towers\n",
       "11753                The Hobbit: An Unexpected Journey\n",
       "14121        The Hobbit: The Battle of the Five Armies\n",
       "12723              The Hobbit: The Desolation of Smaug\n",
       "9189                               The Hunt for Gollum\n",
       "12923                                Curse of the Ring\n",
       "3149                                             Krull\n",
       "8269                       Hellboy II: The Golden Army\n",
       "Name: title, dtype: object"
      ]
     },
     "execution_count": 18,
     "metadata": {},
     "output_type": "execute_result"
    }
   ],
   "source": [
    "model_similarity(df_movies, 'The Lord of the Rings: The Fellowship of the Ring', 10)[\"title\"]"
   ]
  },
  {
   "cell_type": "code",
   "execution_count": 26,
   "metadata": {},
   "outputs": [
    {
     "data": {
      "text/html": [
       "<div>\n",
       "<style scoped>\n",
       "    .dataframe tbody tr th:only-of-type {\n",
       "        vertical-align: middle;\n",
       "    }\n",
       "\n",
       "    .dataframe tbody tr th {\n",
       "        vertical-align: top;\n",
       "    }\n",
       "\n",
       "    .dataframe thead th {\n",
       "        text-align: right;\n",
       "    }\n",
       "</style>\n",
       "<table border=\"1\" class=\"dataframe\">\n",
       "  <thead>\n",
       "    <tr style=\"text-align: right;\">\n",
       "      <th></th>\n",
       "      <th>adult</th>\n",
       "      <th>id</th>\n",
       "      <th>original_language</th>\n",
       "      <th>original_title</th>\n",
       "      <th>overview</th>\n",
       "      <th>popularity</th>\n",
       "      <th>runtime</th>\n",
       "      <th>tagline</th>\n",
       "      <th>title</th>\n",
       "      <th>vote_average</th>\n",
       "      <th>vote_count</th>\n",
       "      <th>genres</th>\n",
       "      <th>release_year</th>\n",
       "      <th>overview_keywords</th>\n",
       "      <th>tags</th>\n",
       "      <th>directors</th>\n",
       "      <th>characters</th>\n",
       "      <th>actors</th>\n",
       "      <th>embeddings</th>\n",
       "      <th>similarity</th>\n",
       "    </tr>\n",
       "  </thead>\n",
       "  <tbody>\n",
       "    <tr>\n",
       "      <th>614</th>\n",
       "      <td>False</td>\n",
       "      <td>238</td>\n",
       "      <td>en</td>\n",
       "      <td>The Godfather</td>\n",
       "      <td>Spanning the years 1945 to 1955, a chronicle o...</td>\n",
       "      <td>41.109264</td>\n",
       "      <td>175.0</td>\n",
       "      <td>An offer you can't refuse.</td>\n",
       "      <td>The Godfather</td>\n",
       "      <td>8.5</td>\n",
       "      <td>6024.0</td>\n",
       "      <td>['Drama', 'Crime']</td>\n",
       "      <td>1972.0</td>\n",
       "      <td>['span', 'year', 'chronicle', 'fictional', 'it...</td>\n",
       "      <td>['italy', 'love at first sight', 'loss of fath...</td>\n",
       "      <td>['Francis Ford Coppola', 'Fred T. Gallo', 'Ste...</td>\n",
       "      <td>['Don Vito Corleone', 'Michael Corleone', \"San...</td>\n",
       "      <td>['Marlon Brando', 'Al Pacino', 'James Caan']</td>\n",
       "      <td>[-0.17985424399375916, 0.05135689303278923, -0...</td>\n",
       "      <td>0.331316</td>\n",
       "    </tr>\n",
       "  </tbody>\n",
       "</table>\n",
       "</div>"
      ],
      "text/plain": [
       "     adult   id original_language original_title  \\\n",
       "614  False  238                en  The Godfather   \n",
       "\n",
       "                                              overview  popularity  runtime  \\\n",
       "614  Spanning the years 1945 to 1955, a chronicle o...   41.109264    175.0   \n",
       "\n",
       "                        tagline          title  vote_average  vote_count  \\\n",
       "614  An offer you can't refuse.  The Godfather           8.5      6024.0   \n",
       "\n",
       "                 genres  release_year  \\\n",
       "614  ['Drama', 'Crime']        1972.0   \n",
       "\n",
       "                                     overview_keywords  \\\n",
       "614  ['span', 'year', 'chronicle', 'fictional', 'it...   \n",
       "\n",
       "                                                  tags  \\\n",
       "614  ['italy', 'love at first sight', 'loss of fath...   \n",
       "\n",
       "                                             directors  \\\n",
       "614  ['Francis Ford Coppola', 'Fred T. Gallo', 'Ste...   \n",
       "\n",
       "                                            characters  \\\n",
       "614  ['Don Vito Corleone', 'Michael Corleone', \"San...   \n",
       "\n",
       "                                           actors  \\\n",
       "614  ['Marlon Brando', 'Al Pacino', 'James Caan']   \n",
       "\n",
       "                                            embeddings  similarity  \n",
       "614  [-0.17985424399375916, 0.05135689303278923, -0...    0.331316  "
      ]
     },
     "execution_count": 26,
     "metadata": {},
     "output_type": "execute_result"
    }
   ],
   "source": [
    "find_movie(df_movies, \"The Godfather\")"
   ]
  },
  {
   "cell_type": "code",
   "execution_count": 27,
   "metadata": {},
   "outputs": [
    {
     "name": "stdout",
     "output_type": "stream",
     "text": [
      "search: The Godfather\n"
     ]
    },
    {
     "data": {
      "text/plain": [
       "0       Escape from Alcatraz\n",
       "1    The Godfather: Part III\n",
       "2     The Godfather: Part II\n",
       "3                      Bugsy\n",
       "4      While the City Sleeps\n",
       "5             Double Harness\n",
       "6                 GoodFellas\n",
       "7      Women in Cell Block 7\n",
       "8           London Boulevard\n",
       "9             Night on Earth\n",
       "Name: title, dtype: object"
      ]
     },
     "execution_count": 27,
     "metadata": {},
     "output_type": "execute_result"
    }
   ],
   "source": [
    "heuristic_similarity(df_movies, 'The Godfather', 10)[\"title\"]"
   ]
  },
  {
   "cell_type": "code",
   "execution_count": 28,
   "metadata": {},
   "outputs": [
    {
     "name": "stdout",
     "output_type": "stream",
     "text": [
      "search: The Godfather\n"
     ]
    },
    {
     "data": {
      "text/plain": [
       "871       The Godfather: Part II\n",
       "1457     The Godfather: Part III\n",
       "1461        Jane Austen's Mafia!\n",
       "3645                The Sicilian\n",
       "10146            The Brotherhood\n",
       "17572                 Crime Boss\n",
       "19267          The Sicilian Girl\n",
       "6099                3 Godfathers\n",
       "20435                Bella Mafia\n",
       "6715      Rocco and His Brothers\n",
       "Name: title, dtype: object"
      ]
     },
     "execution_count": 28,
     "metadata": {},
     "output_type": "execute_result"
    }
   ],
   "source": [
    "model_similarity(df_movies, 'The Godfather', 10)[\"title\"]"
   ]
  },
  {
   "cell_type": "code",
   "execution_count": 33,
   "metadata": {},
   "outputs": [
    {
     "data": {
      "text/html": [
       "<div>\n",
       "<style scoped>\n",
       "    .dataframe tbody tr th:only-of-type {\n",
       "        vertical-align: middle;\n",
       "    }\n",
       "\n",
       "    .dataframe tbody tr th {\n",
       "        vertical-align: top;\n",
       "    }\n",
       "\n",
       "    .dataframe thead th {\n",
       "        text-align: right;\n",
       "    }\n",
       "</style>\n",
       "<table border=\"1\" class=\"dataframe\">\n",
       "  <thead>\n",
       "    <tr style=\"text-align: right;\">\n",
       "      <th></th>\n",
       "      <th>adult</th>\n",
       "      <th>id</th>\n",
       "      <th>original_language</th>\n",
       "      <th>original_title</th>\n",
       "      <th>overview</th>\n",
       "      <th>popularity</th>\n",
       "      <th>runtime</th>\n",
       "      <th>tagline</th>\n",
       "      <th>title</th>\n",
       "      <th>vote_average</th>\n",
       "      <th>vote_count</th>\n",
       "      <th>genres</th>\n",
       "      <th>release_year</th>\n",
       "      <th>overview_keywords</th>\n",
       "      <th>tags</th>\n",
       "      <th>directors</th>\n",
       "      <th>characters</th>\n",
       "      <th>actors</th>\n",
       "      <th>embeddings</th>\n",
       "      <th>similarity</th>\n",
       "    </tr>\n",
       "  </thead>\n",
       "  <tbody>\n",
       "    <tr>\n",
       "      <th>4699</th>\n",
       "      <td>False</td>\n",
       "      <td>1927</td>\n",
       "      <td>en</td>\n",
       "      <td>Hulk</td>\n",
       "      <td>Bruce Banner, a genetics researcher with a tra...</td>\n",
       "      <td>15.422638</td>\n",
       "      <td>138.0</td>\n",
       "      <td>Unleash the hero within</td>\n",
       "      <td>Hulk</td>\n",
       "      <td>5.3</td>\n",
       "      <td>1571.0</td>\n",
       "      <td>['Drama', 'Action', 'Science Fiction']</td>\n",
       "      <td>2003.0</td>\n",
       "      <td>['bruce', 'banner', 'genetics', 'researcher', ...</td>\n",
       "      <td>['california', 'san francisco', 'monster', 'ge...</td>\n",
       "      <td>['Ang Lee', \"Ian O'Connor\", 'Jayne-Ann Tenggre...</td>\n",
       "      <td>['Bruce Banner / The Hulk', 'Betty Ross', 'Tha...</td>\n",
       "      <td>['Eric Bana', 'Jennifer Connelly', 'Sam Elliott']</td>\n",
       "      <td>[-0.1073094978928566, -0.008999132551252842, -...</td>\n",
       "      <td>0.249404</td>\n",
       "    </tr>\n",
       "  </tbody>\n",
       "</table>\n",
       "</div>"
      ],
      "text/plain": [
       "      adult    id original_language original_title  \\\n",
       "4699  False  1927                en           Hulk   \n",
       "\n",
       "                                               overview  popularity  runtime  \\\n",
       "4699  Bruce Banner, a genetics researcher with a tra...   15.422638    138.0   \n",
       "\n",
       "                      tagline title  vote_average  vote_count  \\\n",
       "4699  Unleash the hero within  Hulk           5.3      1571.0   \n",
       "\n",
       "                                      genres  release_year  \\\n",
       "4699  ['Drama', 'Action', 'Science Fiction']        2003.0   \n",
       "\n",
       "                                      overview_keywords  \\\n",
       "4699  ['bruce', 'banner', 'genetics', 'researcher', ...   \n",
       "\n",
       "                                                   tags  \\\n",
       "4699  ['california', 'san francisco', 'monster', 'ge...   \n",
       "\n",
       "                                              directors  \\\n",
       "4699  ['Ang Lee', \"Ian O'Connor\", 'Jayne-Ann Tenggre...   \n",
       "\n",
       "                                             characters  \\\n",
       "4699  ['Bruce Banner / The Hulk', 'Betty Ross', 'Tha...   \n",
       "\n",
       "                                                 actors  \\\n",
       "4699  ['Eric Bana', 'Jennifer Connelly', 'Sam Elliott']   \n",
       "\n",
       "                                             embeddings  similarity  \n",
       "4699  [-0.1073094978928566, -0.008999132551252842, -...    0.249404  "
      ]
     },
     "execution_count": 33,
     "metadata": {},
     "output_type": "execute_result"
    }
   ],
   "source": [
    "find_movie(df_movies, \"Hulk\")"
   ]
  },
  {
   "cell_type": "code",
   "execution_count": 34,
   "metadata": {},
   "outputs": [
    {
     "name": "stdout",
     "output_type": "stream",
     "text": [
      "search: Hulk\n"
     ]
    },
    {
     "data": {
      "text/plain": [
       "0                 The Incredible Hulk\n",
       "1                       Capricorn One\n",
       "2          Far from the Madding Crowd\n",
       "3                      Fantastic Four\n",
       "4            The Beast of Yucca Flats\n",
       "5                       Power Rangers\n",
       "6                      Fantastic Four\n",
       "7              Kingdom of the Spiders\n",
       "8    The Death of the Incredible Hulk\n",
       "9                        High Anxiety\n",
       "Name: title, dtype: object"
      ]
     },
     "execution_count": 34,
     "metadata": {},
     "output_type": "execute_result"
    }
   ],
   "source": [
    "heuristic_similarity(df_movies, 'Hulk', 10)[\"title\"]"
   ]
  },
  {
   "cell_type": "code",
   "execution_count": 35,
   "metadata": {},
   "outputs": [
    {
     "name": "stdout",
     "output_type": "stream",
     "text": [
      "search: Hulk\n"
     ]
    },
    {
     "data": {
      "text/plain": [
       "8457                  The Incredible Hulk\n",
       "12343    The Death of the Incredible Hulk\n",
       "11989    The Trial of the Incredible Hulk\n",
       "10825                        The Avengers\n",
       "4567                                   X2\n",
       "12095                         Planet Hulk\n",
       "10859                                Zaat\n",
       "14615                   X-Men: Apocalypse\n",
       "20520                   The Mad Scientist\n",
       "12168                     Captain America\n",
       "Name: title, dtype: object"
      ]
     },
     "execution_count": 35,
     "metadata": {},
     "output_type": "execute_result"
    }
   ],
   "source": [
    "model_similarity(df_movies, 'Hulk', 10)[\"title\"]"
   ]
  },
  {
   "cell_type": "code",
   "execution_count": null,
   "metadata": {},
   "outputs": [],
   "source": []
  }
 ],
 "metadata": {
  "kernelspec": {
   "display_name": "venv_ai",
   "language": "python",
   "name": "python3"
  },
  "language_info": {
   "codemirror_mode": {
    "name": "ipython",
    "version": 3
   },
   "file_extension": ".py",
   "mimetype": "text/x-python",
   "name": "python",
   "nbconvert_exporter": "python",
   "pygments_lexer": "ipython3",
   "version": "3.9.7"
  }
 },
 "nbformat": 4,
 "nbformat_minor": 2
}
